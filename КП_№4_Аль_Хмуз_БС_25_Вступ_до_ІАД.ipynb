{
  "nbformat": 4,
  "nbformat_minor": 0,
  "metadata": {
    "colab": {
      "provenance": [],
      "toc_visible": true,
      "authorship_tag": "ABX9TyPUQwP+KDcx8412EON+ykEM",
      "include_colab_link": true
    },
    "kernelspec": {
      "name": "python3",
      "display_name": "Python 3"
    },
    "language_info": {
      "name": "python"
    }
  },
  "cells": [
    {
      "cell_type": "markdown",
      "metadata": {
        "id": "view-in-github",
        "colab_type": "text"
      },
      "source": [
        "<a href=\"https://colab.research.google.com/github/kurkur19/Intelligent_Data_Analysis_Al_Khmuz_BS_25/blob/main/%D0%9A%D0%9F_%E2%84%964_%D0%90%D0%BB%D1%8C_%D0%A5%D0%BC%D1%83%D0%B7_%D0%91%D0%A1_25_%D0%92%D1%81%D1%82%D1%83%D0%BF_%D0%B4%D0%BE_%D0%86%D0%90%D0%94.ipynb\" target=\"_parent\"><img src=\"https://colab.research.google.com/assets/colab-badge.svg\" alt=\"Open In Colab\"/></a>"
      ]
    },
    {
      "cell_type": "markdown",
      "source": [
        "# Лабораторна робота 4: Ієрархічна кластеризація\n",
        "### Дисципліна: Вступ до Інтелектуального Аналізу Даних\n",
        "\n"
      ],
      "metadata": {
        "id": "hiZIuZWpLFVQ"
      }
    },
    {
      "cell_type": "markdown",
      "source": [
        "Аль Хмуз Карина Бассамівна БС-25"
      ],
      "metadata": {
        "id": "oPNxensDLQpY"
      }
    },
    {
      "cell_type": "markdown",
      "source": [
        "##Завдання:\n",
        "\n",
        "1.    Реалізувати ієрархічну кластеризацію у вигляді функції. В якості метрики відстані використовувати квадрат відстані Евкліда.\n",
        "2.    Провести кластерний аналіз з використанням створеної функції.\n",
        "3.    Функція має повертати матрицю відстаней для варіантів розділення на 1-30 кластерів.\n",
        "4.    Побудувати графік базуючись на матриці відстаней для 1-10 кластерів. Проаналізувати за методом ліктя, зробити висновки про теоретичну оптимальну кількісті кластерів."
      ],
      "metadata": {
        "id": "e4b_cjilLT__"
      }
    },
    {
      "cell_type": "markdown",
      "source": [
        "##Вихідні дані:\n",
        "Я, Аль Хмуз Карина Бассамівна, маю перший варіант в своїй групі БС-25, тому:\n",
        "\n",
        "1.\tВибір даних для кластеризації– 30 значень\n",
        "2.\t Початок даних: 36\n",
        "3.\tКінець даних: 65\n",
        "4. Мій датасет для цієї роботи - \"Діабет\"\n",
        "-    Матриця класифікації\n",
        "-    Внутрішньокластерна відстань для 2-10 кластерів(з виведенням на екран)\n",
        "-    Матриця відстаней у вигляді таблиці для 1-30 кластерів (з виведенням на екран)\n",
        "-    Побудувати графік базуючись на матриці відстаней для 1-10 кластерів, аналіз за методом ліктя\n",
        "-    Висновок\n",
        "                                  \n",
        "    "
      ],
      "metadata": {
        "id": "oQ4svtGoLZ8p"
      }
    },
    {
      "cell_type": "markdown",
      "source": [
        "##Вимоги:\n",
        "•    теоретичні дані (до 1 ст.)\n",
        "\n",
        "•    короткий опис алгоритму роботи даного виду кластеризації\n",
        "\n",
        "•    набір даних, що був використаний\n",
        "\n",
        "•    матрицю відстаней, графік\n",
        "\n",
        "•    висновки про теоретичну оптимальну кількісті кластерів, базуючись на матриці відстані."
      ],
      "metadata": {
        "id": "-PLYop9fLeyj"
      }
    },
    {
      "cell_type": "markdown",
      "source": [
        "##Теоретичний матеріал:\n"
      ],
      "metadata": {
        "id": "JjmtD9UtLhjr"
      }
    },
    {
      "cell_type": "markdown",
      "source": [
        "***Кластеризація, або кластерний аналіз*** — це статистична процедура,\n",
        "задача якої полягає в розбитті вибірки об'єктів на підмножини, що не\n",
        "перетинаються і називаються кластерами. Кожен кластер має складається\n",
        "зі схожих об'єктів, а об'єкти різних кластерів мають істотно відрізнятися\n",
        "один від одного."
      ],
      "metadata": {
        "id": "69LzsLFMOJ_Z"
      }
    },
    {
      "cell_type": "markdown",
      "source": [
        "***Ієрархічні алгоритми кластеризації***, або алгоритми таксономії,\n",
        "будують не одне розбиття вибірки на непересічні класи, а систему\n",
        "вкладених розбиттів. Результат таксономії зазвичай представляється у\n",
        "вигляді таксономічного дерева — дендрограми. Класичним прикладом\n",
        "такого дерева є ієрархічна класифікація тварин і рослин.\n",
        "Дендограми дозволяє уявити кластерну структуру у вигляді плаского\n",
        "графіка незалежно від того, яка розмірність початкового простору. Існують\n",
        "і інші способи візуалізації багатовимірних даних, такі як багатовимірне\n",
        "шкалювання або карти Кохонена, але вони привносять в картину штучні\n",
        "спотворення, вплив яких досить важко оцінити. Є два типи методів:\n",
        "1. ***Агломератні методи:*** нові кластери утворюються шляхом\n",
        "об'єднання дрібніших кластерів, і таким чином дерево створюється від\n",
        "листя до стовбура.\n",
        "\n",
        "2. ***Дивізійні методи:*** нові кластери створюються шляхом ділення\n",
        "більших кластерів на більш дрібні, і таким чином дерево створюється від\n",
        "стовбура до листя.\n",
        "Подібність кластерів часто розраховується через «неподібність»,\n",
        "наприклад, евклідова відстань між двома кластерами. Отже, чим більше\n",
        "відстань між двома кластерами, тим краще. Ключовою операцією в\n",
        "ієрархічній агломераційній кластеризації є неодноразове об'єднання двох\n",
        "найближчих кластерів у один кластер, але дуже важливо спочатку\n",
        "відповісти на три питання: як ви представити кластер з більш ніж однією\n",
        "точкою, як визначити «близькість» кластерів та коли перестати поєднувати\n",
        "кластери.\n",
        "Алгоритми ієрархічної кластеризації припускають, що аналізована\n",
        "множина об'єктів характеризується певним ступенем зв'язності. За\n",
        "кількістю ознак іноді виділяють монотетічені та політетічні методи\n",
        "класифікації. Як і більшість візуальних способів подання залежностей\n",
        "графи швидко втрачають наочність при збільшенні числа кластерів.\n",
        "Найчастіше використовуються агломеративні методи.\n",
        "Злиття кластерів припиняється в залежності від доступної\n",
        "інформації про дані, які ми маємо. Якщо групувати футболістів на полі на\n",
        "основі їхніх позицій на полі, яке представлятиме їх координати для\n",
        "розрахунку відстані між гравцями, очевидно, що треба зупинитися на\n",
        "лише двох кластерах, оскільки можуть бути тільки дві команди, які грають\n",
        "у футбольний матч."
      ],
      "metadata": {
        "id": "ZjWyBKWuObB4"
      }
    },
    {
      "cell_type": "markdown",
      "source": [
        "##Практична частина:"
      ],
      "metadata": {
        "id": "BDcpGrxhLllV"
      }
    },
    {
      "cell_type": "markdown",
      "source": [
        "###Імпорт бібліотек\n"
      ],
      "metadata": {
        "id": "ZPpx8l9CpNEu"
      }
    },
    {
      "cell_type": "code",
      "execution_count": 1,
      "metadata": {
        "id": "d6o--luwK7R6"
      },
      "outputs": [],
      "source": [
        "import pandas as pd\n",
        "import numpy as np\n",
        "from scipy.cluster.hierarchy import linkage, dendrogram\n",
        "import matplotlib.pyplot as plt\n",
        "from sklearn.preprocessing import StandardScaler"
      ]
    },
    {
      "cell_type": "markdown",
      "source": [
        "###Завантаження Excel-файлу у Google Colab"
      ],
      "metadata": {
        "id": "3XzpolUXpWUd"
      }
    },
    {
      "cell_type": "code",
      "source": [
        "from google.colab import files\n",
        "uploaded = files.upload()"
      ],
      "metadata": {
        "colab": {
          "base_uri": "https://localhost:8080/",
          "height": 73
        },
        "id": "w2QsqC01paN-",
        "outputId": "d0cd8d10-52ce-428a-b0da-3b49c5bc85ee"
      },
      "execution_count": 4,
      "outputs": [
        {
          "output_type": "display_data",
          "data": {
            "text/plain": [
              "<IPython.core.display.HTML object>"
            ],
            "text/html": [
              "\n",
              "     <input type=\"file\" id=\"files-c5f76f37-c052-4235-9c71-7e161a23fd1c\" name=\"files[]\" multiple disabled\n",
              "        style=\"border:none\" />\n",
              "     <output id=\"result-c5f76f37-c052-4235-9c71-7e161a23fd1c\">\n",
              "      Upload widget is only available when the cell has been executed in the\n",
              "      current browser session. Please rerun this cell to enable.\n",
              "      </output>\n",
              "      <script>// Copyright 2017 Google LLC\n",
              "//\n",
              "// Licensed under the Apache License, Version 2.0 (the \"License\");\n",
              "// you may not use this file except in compliance with the License.\n",
              "// You may obtain a copy of the License at\n",
              "//\n",
              "//      http://www.apache.org/licenses/LICENSE-2.0\n",
              "//\n",
              "// Unless required by applicable law or agreed to in writing, software\n",
              "// distributed under the License is distributed on an \"AS IS\" BASIS,\n",
              "// WITHOUT WARRANTIES OR CONDITIONS OF ANY KIND, either express or implied.\n",
              "// See the License for the specific language governing permissions and\n",
              "// limitations under the License.\n",
              "\n",
              "/**\n",
              " * @fileoverview Helpers for google.colab Python module.\n",
              " */\n",
              "(function(scope) {\n",
              "function span(text, styleAttributes = {}) {\n",
              "  const element = document.createElement('span');\n",
              "  element.textContent = text;\n",
              "  for (const key of Object.keys(styleAttributes)) {\n",
              "    element.style[key] = styleAttributes[key];\n",
              "  }\n",
              "  return element;\n",
              "}\n",
              "\n",
              "// Max number of bytes which will be uploaded at a time.\n",
              "const MAX_PAYLOAD_SIZE = 100 * 1024;\n",
              "\n",
              "function _uploadFiles(inputId, outputId) {\n",
              "  const steps = uploadFilesStep(inputId, outputId);\n",
              "  const outputElement = document.getElementById(outputId);\n",
              "  // Cache steps on the outputElement to make it available for the next call\n",
              "  // to uploadFilesContinue from Python.\n",
              "  outputElement.steps = steps;\n",
              "\n",
              "  return _uploadFilesContinue(outputId);\n",
              "}\n",
              "\n",
              "// This is roughly an async generator (not supported in the browser yet),\n",
              "// where there are multiple asynchronous steps and the Python side is going\n",
              "// to poll for completion of each step.\n",
              "// This uses a Promise to block the python side on completion of each step,\n",
              "// then passes the result of the previous step as the input to the next step.\n",
              "function _uploadFilesContinue(outputId) {\n",
              "  const outputElement = document.getElementById(outputId);\n",
              "  const steps = outputElement.steps;\n",
              "\n",
              "  const next = steps.next(outputElement.lastPromiseValue);\n",
              "  return Promise.resolve(next.value.promise).then((value) => {\n",
              "    // Cache the last promise value to make it available to the next\n",
              "    // step of the generator.\n",
              "    outputElement.lastPromiseValue = value;\n",
              "    return next.value.response;\n",
              "  });\n",
              "}\n",
              "\n",
              "/**\n",
              " * Generator function which is called between each async step of the upload\n",
              " * process.\n",
              " * @param {string} inputId Element ID of the input file picker element.\n",
              " * @param {string} outputId Element ID of the output display.\n",
              " * @return {!Iterable<!Object>} Iterable of next steps.\n",
              " */\n",
              "function* uploadFilesStep(inputId, outputId) {\n",
              "  const inputElement = document.getElementById(inputId);\n",
              "  inputElement.disabled = false;\n",
              "\n",
              "  const outputElement = document.getElementById(outputId);\n",
              "  outputElement.innerHTML = '';\n",
              "\n",
              "  const pickedPromise = new Promise((resolve) => {\n",
              "    inputElement.addEventListener('change', (e) => {\n",
              "      resolve(e.target.files);\n",
              "    });\n",
              "  });\n",
              "\n",
              "  const cancel = document.createElement('button');\n",
              "  inputElement.parentElement.appendChild(cancel);\n",
              "  cancel.textContent = 'Cancel upload';\n",
              "  const cancelPromise = new Promise((resolve) => {\n",
              "    cancel.onclick = () => {\n",
              "      resolve(null);\n",
              "    };\n",
              "  });\n",
              "\n",
              "  // Wait for the user to pick the files.\n",
              "  const files = yield {\n",
              "    promise: Promise.race([pickedPromise, cancelPromise]),\n",
              "    response: {\n",
              "      action: 'starting',\n",
              "    }\n",
              "  };\n",
              "\n",
              "  cancel.remove();\n",
              "\n",
              "  // Disable the input element since further picks are not allowed.\n",
              "  inputElement.disabled = true;\n",
              "\n",
              "  if (!files) {\n",
              "    return {\n",
              "      response: {\n",
              "        action: 'complete',\n",
              "      }\n",
              "    };\n",
              "  }\n",
              "\n",
              "  for (const file of files) {\n",
              "    const li = document.createElement('li');\n",
              "    li.append(span(file.name, {fontWeight: 'bold'}));\n",
              "    li.append(span(\n",
              "        `(${file.type || 'n/a'}) - ${file.size} bytes, ` +\n",
              "        `last modified: ${\n",
              "            file.lastModifiedDate ? file.lastModifiedDate.toLocaleDateString() :\n",
              "                                    'n/a'} - `));\n",
              "    const percent = span('0% done');\n",
              "    li.appendChild(percent);\n",
              "\n",
              "    outputElement.appendChild(li);\n",
              "\n",
              "    const fileDataPromise = new Promise((resolve) => {\n",
              "      const reader = new FileReader();\n",
              "      reader.onload = (e) => {\n",
              "        resolve(e.target.result);\n",
              "      };\n",
              "      reader.readAsArrayBuffer(file);\n",
              "    });\n",
              "    // Wait for the data to be ready.\n",
              "    let fileData = yield {\n",
              "      promise: fileDataPromise,\n",
              "      response: {\n",
              "        action: 'continue',\n",
              "      }\n",
              "    };\n",
              "\n",
              "    // Use a chunked sending to avoid message size limits. See b/62115660.\n",
              "    let position = 0;\n",
              "    do {\n",
              "      const length = Math.min(fileData.byteLength - position, MAX_PAYLOAD_SIZE);\n",
              "      const chunk = new Uint8Array(fileData, position, length);\n",
              "      position += length;\n",
              "\n",
              "      const base64 = btoa(String.fromCharCode.apply(null, chunk));\n",
              "      yield {\n",
              "        response: {\n",
              "          action: 'append',\n",
              "          file: file.name,\n",
              "          data: base64,\n",
              "        },\n",
              "      };\n",
              "\n",
              "      let percentDone = fileData.byteLength === 0 ?\n",
              "          100 :\n",
              "          Math.round((position / fileData.byteLength) * 100);\n",
              "      percent.textContent = `${percentDone}% done`;\n",
              "\n",
              "    } while (position < fileData.byteLength);\n",
              "  }\n",
              "\n",
              "  // All done.\n",
              "  yield {\n",
              "    response: {\n",
              "      action: 'complete',\n",
              "    }\n",
              "  };\n",
              "}\n",
              "\n",
              "scope.google = scope.google || {};\n",
              "scope.google.colab = scope.google.colab || {};\n",
              "scope.google.colab._files = {\n",
              "  _uploadFiles,\n",
              "  _uploadFilesContinue,\n",
              "};\n",
              "})(self);\n",
              "</script> "
            ]
          },
          "metadata": {}
        },
        {
          "output_type": "stream",
          "name": "stdout",
          "text": [
            "Saving Діабет.xlsx to Діабет.xlsx\n"
          ]
        }
      ]
    },
    {
      "cell_type": "markdown",
      "source": [
        "###Читання файлу"
      ],
      "metadata": {
        "id": "3r3vz_Sapy39"
      }
    },
    {
      "cell_type": "code",
      "source": [
        "data = pd.read_excel(\"Діабет.xlsx\")"
      ],
      "metadata": {
        "id": "CrKz-BQppn2n"
      },
      "execution_count": 5,
      "outputs": []
    },
    {
      "cell_type": "markdown",
      "source": [
        "###Відбір та нормалізація даних"
      ],
      "metadata": {
        "id": "ZJWZWl2-pnXJ"
      }
    },
    {
      "cell_type": "code",
      "source": [
        "# Відбір рядків 36–65 та необхідних колонок\n",
        "selected_data = data.loc[35:64, ['Гемоглобін', 'Вага', 'Протромбіновий час']]\n",
        "\n",
        "# Нормалізація даних\n",
        "scaler = StandardScaler()\n",
        "normalized_data = scaler.fit_transform(selected_data)\n"
      ],
      "metadata": {
        "id": "fSlt3Gftp32g"
      },
      "execution_count": 6,
      "outputs": []
    },
    {
      "cell_type": "markdown",
      "source": [
        "У моєму датасеті було виявлено пропущені значення (NaN), які могли негативно вплинути на результати кластеризації. Для їх усунення я вирішила замінити пропущені значення середнім значенням відповідних стовпців."
      ],
      "metadata": {
        "id": "amC2Rgbcy_2z"
      }
    },
    {
      "cell_type": "code",
      "source": [
        "# Перевірка на пропущені значення\n",
        "print(\"Перевірка на пропущені значення:\\n\", pd.DataFrame(normalized_data).isnull().sum())\n",
        "\n",
        "# Перевірка на нескінченні значення\n",
        "print(\"Перевірка на нескінченні значення:\", np.isinf(normalized_data).sum())\n",
        "\n",
        "# Якщо є пропущені значення, можна замінити їх середнім значенням\n",
        "if np.isnan(normalized_data).any():\n",
        "    normalized_data = np.nan_to_num(normalized_data, nan=np.nanmean(normalized_data))\n",
        "\n",
        "# Перевіримо ще раз, щоб упевнитися, що всі значення тепер коректні\n",
        "print(\"Перевірка на пропущені значення після обробки:\\n\", pd.DataFrame(normalized_data).isnull().sum())\n",
        "print(\"Перевірка на нескінченні значення після обробки:\", np.isinf(normalized_data).sum())\n"
      ],
      "metadata": {
        "colab": {
          "base_uri": "https://localhost:8080/"
        },
        "id": "Jb6vozv2qbdX",
        "outputId": "5f186aa7-48d5-48b2-f229-c7d1fc15e921"
      },
      "execution_count": 8,
      "outputs": [
        {
          "output_type": "stream",
          "name": "stdout",
          "text": [
            "Перевірка на пропущені значення:\n",
            " 0    3\n",
            "1    0\n",
            "2    0\n",
            "dtype: int64\n",
            "Перевірка на нескінченні значення: 0\n",
            "Перевірка на пропущені значення після обробки:\n",
            " 0    0\n",
            "1    0\n",
            "2    0\n",
            "dtype: int64\n",
            "Перевірка на нескінченні значення після обробки: 0\n"
          ]
        }
      ]
    },
    {
      "cell_type": "markdown",
      "source": [
        "Це означає, що у першій змінній (колонка 0) було 3 пропущені значення (NaN). У двох інших змінних (колонки 1 та 2) пропущених значень не було."
      ],
      "metadata": {
        "id": "b6qTf3ckqsXw"
      }
    },
    {
      "cell_type": "markdown",
      "source": [
        "Після заміни пропущених значень середнім значенням відповідної колонки в усіх змінних тепер немає пропущених значень, можемо продовжити нашу роботу :)"
      ],
      "metadata": {
        "id": "PX-CaoJHqwEN"
      }
    },
    {
      "cell_type": "markdown",
      "source": [
        "###Функція ієрархічної кластеризації\n",
        "Тепер реалізуємо ієрархічну кластеризацію, використовуючи квадрат Евклідової відстані."
      ],
      "metadata": {
        "id": "qFQyXgHbqAWr"
      }
    },
    {
      "cell_type": "code",
      "source": [
        "from scipy.spatial.distance import pdist, squareform\n",
        "\n",
        "# Створення матриці відстаней з квадратом Евклідової відстані\n",
        "distance_matrix = squareform(pdist(normalized_data, metric='sqeuclidean'))\n",
        "\n",
        "# Ієрархічна кластеризація\n",
        "linkage_matrix = linkage(normalized_data, method='ward', metric='euclidean')\n"
      ],
      "metadata": {
        "id": "kX2l_KMdqAu1"
      },
      "execution_count": 9,
      "outputs": []
    },
    {
      "cell_type": "markdown",
      "source": [
        "###Побудова дендрограми\n",
        "Дендрограма дозволяє візуалізувати, як об'єднуються кластери на різних рівнях."
      ],
      "metadata": {
        "id": "p7hyiNlSq14S"
      }
    },
    {
      "cell_type": "code",
      "source": [
        "plt.figure(figsize=(12, 8))\n",
        "dendrogram(linkage_matrix)\n",
        "plt.title(\"Дендрограма для ієрархічної кластеризації\")\n",
        "plt.xlabel(\"Об'єкти\")\n",
        "plt.ylabel(\"Відстань\")\n",
        "plt.show()\n"
      ],
      "metadata": {
        "colab": {
          "base_uri": "https://localhost:8080/",
          "height": 727
        },
        "id": "44XlkIACq3PZ",
        "outputId": "1f2d14f7-e1c2-4ba4-b459-88834e81b383"
      },
      "execution_count": 10,
      "outputs": [
        {
          "output_type": "display_data",
          "data": {
            "text/plain": [
              "<Figure size 1200x800 with 1 Axes>"
            ],
            "image/png": "[encoded data removed]"
          },
          "metadata": {}
        }
      ]
    },
    {
      "cell_type": "markdown",
      "source": [
        "Дендрограма для ієрархічної кластеризації ілюструє, як об'єкти в моєму датасеті об'єднуються в кластери. Спочатку всі об'єкти представлені єдиним кластером, що позначений синім кольором. Це свідчить про те, що відстань між усіма точками в даний момент є мінімальною. У міру збільшення відстані кластери починають розпадатися на менші групи, що представлено різними кольорами.\n",
        "\n",
        "Кожен колір у дендрограмі символізує окремий кластер, який формується в результаті ієрархічної кластеризації. Чим вище на дендрограмі, тим більша відстань між кластерами, що вказує на те, що для об'єднання цих кластерів потрібно більше зусиль. Коли дендрограма дійде до кінцевої точки, ми можемо бачити, як об'єкти поділені на чотири різні кластери, що відображає їх близькість один до одного"
      ],
      "metadata": {
        "id": "RZ1OhNP20EMo"
      }
    },
    {
      "cell_type": "markdown",
      "source": [
        "###Аналіз методом ліктя"
      ],
      "metadata": {
        "id": "rW9-E8sJq-HV"
      }
    },
    {
      "cell_type": "markdown",
      "source": [
        "Метод ліктя використовує графік відстаней між кластерами, щоб оцінити, на якому етапі об’єднання найкраще припинити. Для цього розрахуємо матрицю відстаней для 1–10 кластерів."
      ],
      "metadata": {
        "id": "7JKXxt2srEfW"
      }
    },
    {
      "cell_type": "code",
      "source": [
        "from scipy.cluster.hierarchy import fcluster\n",
        "\n",
        "# Збережемо відстані для 1–10 кластерів\n",
        "distance_sums = []\n",
        "for num_clusters in range(1, 11):\n",
        "    clusters = fcluster(linkage_matrix, num_clusters, criterion='maxclust')\n",
        "    # Визначення суми відстаней всередині кожного кластера\n",
        "    sum_distance = np.sum([np.sum(distance_matrix[np.ix_(clusters == i, clusters == i)]) for i in np.unique(clusters)])\n",
        "    distance_sums.append(sum_distance)\n",
        "\n",
        "# Побудова графіка методу ліктя\n",
        "plt.figure(figsize=(8, 6))\n",
        "plt.plot(range(1, 11), distance_sums, marker='o')\n",
        "plt.title(\"Метод ліктя для визначення кількості кластерів\")\n",
        "plt.xlabel(\"Кількість кластерів\")\n",
        "plt.ylabel(\"Сума відстаней всередині кластерів\")\n",
        "plt.show()\n"
      ],
      "metadata": {
        "colab": {
          "base_uri": "https://localhost:8080/",
          "height": 564
        },
        "id": "GAWXEH55rBPG",
        "outputId": "62e35a4d-b6f5-4f0e-936e-9f9ebc7e28fd"
      },
      "execution_count": 11,
      "outputs": [
        {
          "output_type": "display_data",
          "data": {
            "text/plain": [
              "<Figure size 800x600 with 1 Axes>"
            ],
            "image/png": "[encoded data removed]"
          },
          "metadata": {}
        }
      ]
    },
    {
      "cell_type": "markdown",
      "source": [
        "На основі дендрограми та графіка методу ліктя ми можемо оцінити, яка кількість кластерів виглядає оптимальною. Зазвичай, оптимальна кількість кластерів знаходиться на тому місці, де відбувається різкий злам на графіку. У нашому випадку оптимальна кількість кластерів - 4."
      ],
      "metadata": {
        "id": "0wJ2Z145rJg8"
      }
    },
    {
      "cell_type": "markdown",
      "source": [
        "###Матриця об’єднання"
      ],
      "metadata": {
        "id": "WnUf7XN4rPVu"
      }
    },
    {
      "cell_type": "code",
      "source": [
        "import pandas as pd\n",
        "from scipy.cluster.hierarchy import linkage\n",
        "\n",
        "# Виконати ієрархічну кластеризацію та створити linkage_matrix\n",
        "linkage_matrix = linkage(normalized_data, method='ward')\n",
        "\n",
        "# Ініціалізація списку для зберігання назв кластерів\n",
        "cluster_names = [f\"{i}\" for i in range(len(normalized_data))]\n",
        "\n",
        "# Побудова таблиці злиття кластерів\n",
        "merge_table = []\n",
        "\n",
        "for i in range(linkage_matrix.shape[0]):\n",
        "    obj1 = int(linkage_matrix[i, 0])\n",
        "    obj2 = int(linkage_matrix[i, 1])\n",
        "\n",
        "    # Використовуємо оригінальні назви об'єктів або попередні назви кластерів\n",
        "    name1 = cluster_names[obj1] if obj1 < len(cluster_names) else cluster_names[obj1 - len(normalized_data)]\n",
        "    name2 = cluster_names[obj2] if obj2 < len(cluster_names) else cluster_names[obj2 - len(normalized_data)]\n",
        "\n",
        "    # Додаємо новий рядок в таблицю злиття\n",
        "    merge_table.append({\n",
        "        \"Об'єкт 1\": name1,\n",
        "        \"Об'єкт 2\": name2,\n",
        "        \"Відстань між кластерами\": linkage_matrix[i, 2],\n",
        "        \"Нова назва\": f\"Cluster {i + 1}\"\n",
        "    })\n",
        "\n",
        "    # Оновлюємо назву нового кластера\n",
        "    cluster_names.append(f\"Cluster {i + 1}\")\n",
        "\n",
        "# Перетворюємо список в DataFrame\n",
        "merge_table_df = pd.DataFrame(merge_table)\n",
        "\n",
        "# Виведення таблиці\n",
        "print(merge_table_df)\n"
      ],
      "metadata": {
        "colab": {
          "base_uri": "https://localhost:8080/"
        },
        "id": "vTMSUVsuwqqm",
        "outputId": "36febcbc-19d2-4010-8101-4b5761668e8e"
      },
      "execution_count": 21,
      "outputs": [
        {
          "output_type": "stream",
          "name": "stdout",
          "text": [
            "      Об'єкт 1    Об'єкт 2  Відстань між кластерами  Нова назва\n",
            "0            5          26                 0.222942   Cluster 1\n",
            "1            3           9                 0.335087   Cluster 2\n",
            "2           13          24                 0.400019   Cluster 3\n",
            "3           16          18                 0.508559   Cluster 4\n",
            "4            6   Cluster 1                 0.515596   Cluster 5\n",
            "5            4          19                 0.577232   Cluster 6\n",
            "6           10          22                 0.611266   Cluster 7\n",
            "7           12          25                 0.671619   Cluster 8\n",
            "8           11   Cluster 4                 0.713300   Cluster 9\n",
            "9           29   Cluster 3                 0.718554  Cluster 10\n",
            "10          17          21                 0.789855  Cluster 11\n",
            "11           1   Cluster 5                 0.803709  Cluster 12\n",
            "12          15          28                 0.869823  Cluster 13\n",
            "13           2           7                 0.903954  Cluster 14\n",
            "14           0  Cluster 12                 0.929742  Cluster 15\n",
            "15   Cluster 2  Cluster 13                 0.996176  Cluster 16\n",
            "16          14   Cluster 7                 1.030619  Cluster 17\n",
            "17           8          20                 1.077945  Cluster 18\n",
            "18  Cluster 14  Cluster 17                 1.322700  Cluster 19\n",
            "19          23   Cluster 8                 1.331187  Cluster 20\n",
            "20   Cluster 9  Cluster 11                 1.441269  Cluster 21\n",
            "21  Cluster 10  Cluster 15                 1.584595  Cluster 22\n",
            "22          27  Cluster 20                 2.015058  Cluster 23\n",
            "23  Cluster 18  Cluster 19                 2.731136  Cluster 24\n",
            "24  Cluster 16  Cluster 21                 2.840883  Cluster 25\n",
            "25   Cluster 6  Cluster 22                 3.366571  Cluster 26\n",
            "26  Cluster 24  Cluster 25                 5.664091  Cluster 27\n",
            "27  Cluster 23  Cluster 27                 6.416016  Cluster 28\n",
            "28  Cluster 26  Cluster 28                 7.194794  Cluster 29\n"
          ]
        }
      ]
    },
    {
      "cell_type": "markdown",
      "source": [
        "Матриця об'єднання, або таблиця злиття (merge table), є ключовим результатом ієрархічної кластеризації, що відображає процес об'єднання об'єктів у кластери."
      ],
      "metadata": {
        "id": "0TInkgXH1IwI"
      }
    },
    {
      "cell_type": "markdown",
      "source": [
        "Розглянемо перші кілька рядків матриці об'єднання:"
      ],
      "metadata": {
        "id": "7ciunSWe1MP8"
      }
    },
    {
      "cell_type": "code",
      "source": [],
      "metadata": {
        "id": "9gIYK8eJ1JC-"
      },
      "execution_count": null,
      "outputs": []
    }
  ]
}