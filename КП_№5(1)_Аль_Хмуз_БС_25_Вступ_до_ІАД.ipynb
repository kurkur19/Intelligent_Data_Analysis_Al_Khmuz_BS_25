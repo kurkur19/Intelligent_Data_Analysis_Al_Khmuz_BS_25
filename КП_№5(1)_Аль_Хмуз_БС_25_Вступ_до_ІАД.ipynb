{
  "nbformat": 4,
  "nbformat_minor": 0,
  "metadata": {
    "colab": {
      "provenance": [],
      "authorship_tag": "ABX9TyNqsAwrpu98pSLDNZpCyQNg",
      "include_colab_link": true
    },
    "kernelspec": {
      "name": "python3",
      "display_name": "Python 3"
    },
    "language_info": {
      "name": "python"
    }
  },
  "cells": [
    {
      "cell_type": "markdown",
      "metadata": {
        "id": "view-in-github",
        "colab_type": "text"
      },
      "source": [
        "<a href=\"https://colab.research.google.com/github/kurkur19/Intelligent_Data_Analysis_Al_Khmuz_BS_25/blob/main/%D0%9A%D0%9F_%E2%84%965(1)_%D0%90%D0%BB%D1%8C_%D0%A5%D0%BC%D1%83%D0%B7_%D0%91%D0%A1_25_%D0%92%D1%81%D1%82%D1%83%D0%BF_%D0%B4%D0%BE_%D0%86%D0%90%D0%94.ipynb\" target=\"_parent\"><img src=\"https://colab.research.google.com/assets/colab-badge.svg\" alt=\"Open In Colab\"/></a>"
      ]
    },
    {
      "cell_type": "markdown",
      "source": [
        "# Лабораторна робота 5(1): Регресійний аналіз\n",
        "### Дисципліна: Вступ до Інтелектуального Аналізу Даних"
      ],
      "metadata": {
        "id": "6XU_m-JYZhrT"
      }
    },
    {
      "cell_type": "markdown",
      "source": [
        "Виконала студентка групи БС-25 Аль Хмуз Карина Бассамівна"
      ],
      "metadata": {
        "id": "RDBMuyQMZ99t"
      }
    },
    {
      "cell_type": "markdown",
      "source": [
        "**У завданні необхідно:**\n",
        "\n",
        " Здійснити розрахунок параметрів для варіантів структури моделей\n",
        "\n",
        "- з трьома вхідними змінними;\n",
        "- з трьома вхідними змінними та вільним членом (в якості вільного члена взяти const).\n",
        "\n",
        "Розрахувати показники якості:\n",
        "\n",
        "1. коєффіцієнт кореляції,\n",
        "2. коєфіціент детермінації,\n",
        "3. СКП,\n",
        "4. ВСКП,\n",
        "5. НВСКП,\n",
        "\n",
        "побудувати графіки одержаних моделей, порівняти, та зробити висновки, щодо можливостей їх застосування."
      ],
      "metadata": {
        "id": "2EMBrcmZaNvo"
      }
    },
    {
      "cell_type": "markdown",
      "source": [
        "##*Теоретичний матеріал*"
      ],
      "metadata": {
        "id": "lQm4eJm3aYwJ"
      }
    },
    {
      "cell_type": "markdown",
      "source": [
        "**Регресі́йний ана́ліз** — розділ математичної статистики, присвячений методам аналізу залежності однієї величини від іншої. На відміну від кореляційного аналізу не з'ясовує істотний зв'язок, а займається пошуком моделі цього зв'язку, вираженої у функції регресії.\n",
        "\n",
        "Регресійний аналіз використовується в тому випадку, якщо відношення між змінними можуть бути виражені кількісно у виді деякої комбінації цих змінних. Отримана комбінація використовується для передбачення значення, що може приймати цільова (залежна) змінна, яка обчислюється на заданому наборі значень вхідних (незалежних) змінних. У найпростішому випадку для цього використовуються стандартні статистичні методи, такі як лінійна регресія. На жаль, більшість реальних моделей не вкладаються в рамки лінійної регресії. Наприклад, розміри продажів чи фондові ціни дуже складні для передбачення, оскільки можуть залежати від комплексу взаємозв'язків множин змінних. Таким чином, необхідні комплексні методи для передбачення майбутніх значень."
      ],
      "metadata": {
        "id": "Xn2URiJla_n1"
      }
    },
    {
      "cell_type": "markdown",
      "source": [
        "###Основні формули"
      ],
      "metadata": {
        "id": "myNVxK-fbPKO"
      }
    },
    {
      "cell_type": "markdown",
      "source": [
        "####1.Матрична форма моделі лінійної регресії:"
      ],
      "metadata": {
        "id": "axduxzxobYg-"
      }
    },
    {
      "cell_type": "markdown",
      "source": [
        "$$\n",
        "\\text{Модель лінійної регресії описується рівнянням:} \\\\\n",
        "Y = X \\cdot \\alpha + \\varepsilon \\\\\n",
        "\\text{, де:} \\\\\n",
        "\\text{• Y – вектор залежних змінних ;} \\\\\n",
        "\\text{• X – матриця незалежних змінних ;} \\\\\n",
        "\\text{• α – вектор параметрів моделі ;} \\\\\n",
        "\\text{• ɛ – вектор залишків.}\n",
        "$$\n",
        "\n"
      ],
      "metadata": {
        "id": "oWNQ4jxabcVZ"
      }
    },
    {
      "cell_type": "markdown",
      "source": [
        "####2. Критерій мінімізації методу найменших квадратів"
      ],
      "metadata": {
        "id": "sxV-eqWNbfLS"
      }
    },
    {
      "cell_type": "markdown",
      "source": [
        "$$\n",
        "\\text{Критерій мінімізує суму квадратів залишків:}\\\\\n",
        "S(\\alpha) = \\sum_{i=1}^n \\left( Y_i - X_i \\cdot \\alpha \\right)\\text{.}\\\\\n",
        "\\text{ Мета: знайти значення α, які мінімізують S(α).}\\\\\n",
        "$$"
      ],
      "metadata": {
        "id": "HpkZVfHdblcY"
      }
    },
    {
      "cell_type": "markdown",
      "source": [
        "#### 3.Формула для оцінки параметрів регресії у матричному вигляді"
      ],
      "metadata": {
        "id": "6UJjEG2abo07"
      }
    },
    {
      "cell_type": "markdown",
      "source": [
        "$$\n",
        "\\text{Оцінка параметрів у матричній формі обчислюється за формулою:} \\\\\n",
        "\\alpha = \\left( X^T X \\right)^{-1} X^T Y \\\\\n",
        "\\text{, де:} \\\\\n",
        "\\text{• \\( X^T \\) – транспонована матриця незалежних змінних;} \\\\\n",
        "\\text{• \\( \\left( X^T X \\right)^{-1} \\) – обернена матриця.}\n",
        "$$\n"
      ],
      "metadata": {
        "id": "Rjuje7PJbtYK"
      }
    },
    {
      "cell_type": "markdown",
      "source": [
        "####4.Кутовий коефіцієнт ($α_1$) для простої лінійної регресії"
      ],
      "metadata": {
        "id": "rdYTYREDbzhw"
      }
    },
    {
      "cell_type": "markdown",
      "source": [
        "$$\n",
        "\\text{Кутовий коефіцієнт ($\\alpha_1$) визначає нахил лінії регресії:}\\\\\n",
        "\\alpha_1 = \\frac{\\sum_{i=1}^n \\left( X_i - \\bar{X} \\right) \\left( Y_i - \\bar{Y} \\right)}{\\sum_{i=1}^n \\left( X_i - \\bar{X} \\right)^2}\n",
        "$$"
      ],
      "metadata": {
        "id": "uvXRD4n1b3QN"
      }
    },
    {
      "cell_type": "markdown",
      "source": [
        "####5. Вільний член($α_0$)"
      ],
      "metadata": {
        "id": "wUfWAVcPb51B"
      }
    },
    {
      "cell_type": "markdown",
      "source": [
        "$$\n",
        "\\text{Вільний член ($α_0$) визначає прогнозоване значення Y, коли X = 0:}\\\\\n",
        "{α_0} = \\bar{Y} - \\alpha_1 \\bar{X}\n",
        "$$"
      ],
      "metadata": {
        "id": "v8eIFvQpb-XF"
      }
    },
    {
      "cell_type": "markdown",
      "source": [
        "####6. Коефіцієнт кореляції ($𝑹$)"
      ],
      "metadata": {
        "id": "Id9WxhiCcBew"
      }
    },
    {
      "cell_type": "markdown",
      "source": [
        "$$\n",
        "\\text{Коефіцієнт кореляції показує силу лінійного зв’язку між Y і $\\hat{Y}$:}\\\\\n",
        "R = \\frac{\\sum_{i=1}^n \\left( Y_i - \\bar{Y} \\right) \\left( \\hat{Y}_i - \\bar{\\hat{Y}} \\right)}{\\sqrt{\\sum_{i=1}^n \\left( Y_i - \\bar{Y} \\right)^2 \\sum_{i=1}^n \\left( \\hat{Y}_i - \\bar{\\hat{Y}} \\right)^2}}\n",
        "$$"
      ],
      "metadata": {
        "id": "OT84CDG_cFhb"
      }
    },
    {
      "cell_type": "markdown",
      "source": [
        "####7. Коефіцієнт детермінації ($𝑹^2$)"
      ],
      "metadata": {
        "id": "RZA_v2FvcI-r"
      }
    },
    {
      "cell_type": "markdown",
      "source": [
        "$$\n",
        "\\text{Коефіцієнт детермінації показує, яка частка варіації Y пояснюється моделлю:}\\\\\n",
        "R^2 = 1 - \\frac{\\sum_{i=1}^n \\left( Y_i - \\hat{Y}_i \\right)^2}{\\sum_{i=1}^n \\left( Y_i - \\bar{Y} \\right)^2}\n",
        "$$"
      ],
      "metadata": {
        "id": "QSV7qAPocY27"
      }
    },
    {
      "cell_type": "markdown",
      "source": [
        "####8. Середньоквадратичне відхилення (MSE)"
      ],
      "metadata": {
        "id": "d8vs0QqDccDk"
      }
    },
    {
      "cell_type": "markdown",
      "source": [
        "$$\n",
        "\\text{MSE показує середню похибку моделі:}\\\\\n",
        "MSE = \\frac{1}{n} \\sum_{i=1}^n \\left( Y_i - \\hat{Y}_i \\right)^2\n",
        "$$"
      ],
      "metadata": {
        "id": "cPMmFmQbcfVz"
      }
    },
    {
      "cell_type": "markdown",
      "source": [
        "####9. Відносне середньоквадратичне відхилення (RMSE)"
      ],
      "metadata": {
        "id": "9QEEzfGncieB"
      }
    },
    {
      "cell_type": "markdown",
      "source": [
        "$$\n",
        "\\text{RMSE - корінь із середньоквадратичного відхилення:}\\\\\n",
        "RMSE = \\sqrt{MSE}\n",
        "$$"
      ],
      "metadata": {
        "id": "Ql1uYgNbcmTb"
      }
    },
    {
      "cell_type": "markdown",
      "source": [
        "#### 10.Нормоване відносне середньоквадратичне відхилення (NRMSE)"
      ],
      "metadata": {
        "id": "aPQkdibecqi6"
      }
    },
    {
      "cell_type": "markdown",
      "source": [
        "$$\n",
        "\\text{NRMSE нормалізує похибку відносно середнього значення Y:}\\\\\n",
        "NRMSE = \\frac{RMSE}{\\bar{Y}} \\cdot 100\\%\n",
        "$$"
      ],
      "metadata": {
        "id": "GvL4m8m8cuLA"
      }
    },
    {
      "cell_type": "markdown",
      "source": [
        "##Практична частина"
      ],
      "metadata": {
        "id": "-uP2mqjXe34u"
      }
    },
    {
      "cell_type": "markdown",
      "source": [
        "###Завантаження бібліотек"
      ],
      "metadata": {
        "id": "JYUWkWr5fBJt"
      }
    },
    {
      "cell_type": "code",
      "execution_count": 1,
      "metadata": {
        "id": "tbYw6cYVZM2s"
      },
      "outputs": [],
      "source": [
        "import numpy as np\n",
        "import pandas as pd\n",
        "import matplotlib.pyplot as plt\n",
        "from sklearn.metrics import r2_score, mean_squared_error"
      ]
    }
  ]
}