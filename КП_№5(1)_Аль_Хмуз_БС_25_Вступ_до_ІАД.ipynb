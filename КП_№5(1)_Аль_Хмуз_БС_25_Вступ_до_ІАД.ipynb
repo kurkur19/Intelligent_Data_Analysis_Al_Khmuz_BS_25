{
  "nbformat": 4,
  "nbformat_minor": 0,
  "metadata": {
    "colab": {
      "provenance": [],
      "toc_visible": true,
      "authorship_tag": "ABX9TyMxRzjwL9QWceJdMtyN4EIH",
      "include_colab_link": true
    },
    "kernelspec": {
      "name": "python3",
      "display_name": "Python 3"
    },
    "language_info": {
      "name": "python"
    }
  },
  "cells": [
    {
      "cell_type": "markdown",
      "metadata": {
        "id": "view-in-github",
        "colab_type": "text"
      },
      "source": [
        "<a href=\"https://colab.research.google.com/github/kurkur19/Intelligent_Data_Analysis_Al_Khmuz_BS_25/blob/main/%D0%9A%D0%9F_%E2%84%965(1)_%D0%90%D0%BB%D1%8C_%D0%A5%D0%BC%D1%83%D0%B7_%D0%91%D0%A1_25_%D0%92%D1%81%D1%82%D1%83%D0%BF_%D0%B4%D0%BE_%D0%86%D0%90%D0%94.ipynb\" target=\"_parent\"><img src=\"https://colab.research.google.com/assets/colab-badge.svg\" alt=\"Open In Colab\"/></a>"
      ]
    },
    {
      "cell_type": "markdown",
      "source": [
        "# ***Лабораторна робота 5(1): Регресійний аналіз***\n",
        "### *Дисципліна: Вступ до Інтелектуального Аналізу Даних*"
      ],
      "metadata": {
        "id": "6XU_m-JYZhrT"
      }
    },
    {
      "cell_type": "markdown",
      "source": [
        "Виконала студентка групи БС-25 Аль Хмуз Карина Бассамівна (1 варіант)"
      ],
      "metadata": {
        "id": "RDBMuyQMZ99t"
      }
    },
    {
      "cell_type": "markdown",
      "source": [
        "**У завданні необхідно:**\n",
        "\n",
        " Здійснити розрахунок параметрів для варіантів структури моделей\n",
        "\n",
        "- з трьома вхідними змінними;\n",
        "- з трьома вхідними змінними та вільним членом (в якості вільного члена взяти const).\n",
        "\n",
        "Розрахувати показники якості:\n",
        "\n",
        "1. коєффіцієнт кореляції,\n",
        "2. коєфіціент детермінації,\n",
        "3. СКП,\n",
        "4. ВСКП,\n",
        "5. НВСКП,\n",
        "\n",
        "побудувати графіки одержаних моделей, порівняти, та зробити висновки, щодо можливостей їх застосування."
      ],
      "metadata": {
        "id": "2EMBrcmZaNvo"
      }
    },
    {
      "cell_type": "markdown",
      "source": [
        "##*Теоретичний матеріал*"
      ],
      "metadata": {
        "id": "lQm4eJm3aYwJ"
      }
    },
    {
      "cell_type": "markdown",
      "source": [
        "**Регресі́йний ана́ліз** — розділ математичної статистики, присвячений методам аналізу залежності однієї величини від іншої. На відміну від кореляційного аналізу не з'ясовує істотний зв'язок, а займається пошуком моделі цього зв'язку, вираженої у функції регресії.\n",
        "\n",
        "Регресійний аналіз використовується в тому випадку, якщо відношення між змінними можуть бути виражені кількісно у виді деякої комбінації цих змінних. Отримана комбінація використовується для передбачення значення, що може приймати цільова (залежна) змінна, яка обчислюється на заданому наборі значень вхідних (незалежних) змінних. У найпростішому випадку для цього використовуються стандартні статистичні методи, такі як лінійна регресія. На жаль, більшість реальних моделей не вкладаються в рамки лінійної регресії. Наприклад, розміри продажів чи фондові ціни дуже складні для передбачення, оскільки можуть залежати від комплексу взаємозв'язків множин змінних. Таким чином, необхідні комплексні методи для передбачення майбутніх значень."
      ],
      "metadata": {
        "id": "Xn2URiJla_n1"
      }
    },
    {
      "cell_type": "markdown",
      "source": [
        "###**Основні формули**"
      ],
      "metadata": {
        "id": "myNVxK-fbPKO"
      }
    },
    {
      "cell_type": "markdown",
      "source": [
        "####1.Матрична форма моделі лінійної регресії:"
      ],
      "metadata": {
        "id": "axduxzxobYg-"
      }
    },
    {
      "cell_type": "markdown",
      "source": [
        "$$\n",
        "\\text{Модель лінійної регресії описується рівнянням:} \\\\\n",
        "Y = X \\cdot \\alpha + \\varepsilon \\\\\n",
        "\\text{, де:} \\\\\n",
        "\\text{• Y – вектор залежних змінних ;} \\\\\n",
        "\\text{• X – матриця незалежних змінних ;} \\\\\n",
        "\\text{• α – вектор параметрів моделі ;} \\\\\n",
        "\\text{• ɛ – вектор залишків.}\n",
        "$$\n",
        "\n"
      ],
      "metadata": {
        "id": "oWNQ4jxabcVZ"
      }
    },
    {
      "cell_type": "markdown",
      "source": [
        "####2. Критерій мінімізації методу найменших квадратів"
      ],
      "metadata": {
        "id": "sxV-eqWNbfLS"
      }
    },
    {
      "cell_type": "markdown",
      "source": [
        "$$\n",
        "\\text{Критерій мінімізує суму квадратів залишків:}\\\\\n",
        "S(\\alpha) = \\sum_{i=1}^n \\left( Y_i - X_i \\cdot \\alpha \\right)\\text{.}\\\\\n",
        "\\text{ Мета: знайти значення α, які мінімізують S(α).}\\\\\n",
        "$$"
      ],
      "metadata": {
        "id": "HpkZVfHdblcY"
      }
    },
    {
      "cell_type": "markdown",
      "source": [
        "#### 3.Формула для оцінки параметрів регресії у матричному вигляді"
      ],
      "metadata": {
        "id": "6UJjEG2abo07"
      }
    },
    {
      "cell_type": "markdown",
      "source": [
        "$$\n",
        "\\text{Оцінка параметрів у матричній формі обчислюється за формулою:} \\\\\n",
        "\\alpha = \\left( X^T X \\right)^{-1} X^T Y \\\\\n",
        "\\text{, де:} \\\\\n",
        "\\text{• \\( X^T \\) – транспонована матриця незалежних змінних;} \\\\\n",
        "\\text{• \\( \\left( X^T X \\right)^{-1} \\) – обернена матриця.}\n",
        "$$\n"
      ],
      "metadata": {
        "id": "Rjuje7PJbtYK"
      }
    },
    {
      "cell_type": "markdown",
      "source": [
        "####4.Кутовий коефіцієнт ($α_1$) для простої лінійної регресії"
      ],
      "metadata": {
        "id": "rdYTYREDbzhw"
      }
    },
    {
      "cell_type": "markdown",
      "source": [
        "$$\n",
        "\\text{Кутовий коефіцієнт ($\\alpha_1$) визначає нахил лінії регресії:}\\\\\n",
        "\\alpha_1 = \\frac{\\sum_{i=1}^n \\left( X_i - \\bar{X} \\right) \\left( Y_i - \\bar{Y} \\right)}{\\sum_{i=1}^n \\left( X_i - \\bar{X} \\right)^2}\n",
        "$$"
      ],
      "metadata": {
        "id": "uvXRD4n1b3QN"
      }
    },
    {
      "cell_type": "markdown",
      "source": [
        "####5. Вільний член($α_0$)"
      ],
      "metadata": {
        "id": "wUfWAVcPb51B"
      }
    },
    {
      "cell_type": "markdown",
      "source": [
        "$$\n",
        "\\text{Вільний член ($α_0$) визначає прогнозоване значення Y, коли X = 0:}\\\\\n",
        "{α_0} = \\bar{Y} - \\alpha_1 \\bar{X}\n",
        "$$"
      ],
      "metadata": {
        "id": "v8eIFvQpb-XF"
      }
    },
    {
      "cell_type": "markdown",
      "source": [
        "####6. Коефіцієнт кореляції ($𝑹$)"
      ],
      "metadata": {
        "id": "Id9WxhiCcBew"
      }
    },
    {
      "cell_type": "markdown",
      "source": [
        "$$\n",
        "\\text{Коефіцієнт кореляції показує силу лінійного зв’язку між Y і $\\hat{Y}$:}\\\\\n",
        "R = \\frac{\\sum_{i=1}^n \\left( Y_i - \\bar{Y} \\right) \\left( \\hat{Y}_i - \\bar{\\hat{Y}} \\right)}{\\sqrt{\\sum_{i=1}^n \\left( Y_i - \\bar{Y} \\right)^2 \\sum_{i=1}^n \\left( \\hat{Y}_i - \\bar{\\hat{Y}} \\right)^2}}\n",
        "$$"
      ],
      "metadata": {
        "id": "OT84CDG_cFhb"
      }
    },
    {
      "cell_type": "markdown",
      "source": [
        "####7. Коефіцієнт детермінації ($𝑹^2$)"
      ],
      "metadata": {
        "id": "RZA_v2FvcI-r"
      }
    },
    {
      "cell_type": "markdown",
      "source": [
        "$$\n",
        "\\text{Коефіцієнт детермінації показує, яка частка варіації Y пояснюється моделлю:}\\\\\n",
        "R^2 = 1 - \\frac{\\sum_{i=1}^n \\left( Y_i - \\hat{Y}_i \\right)^2}{\\sum_{i=1}^n \\left( Y_i - \\bar{Y} \\right)^2}\n",
        "$$"
      ],
      "metadata": {
        "id": "QSV7qAPocY27"
      }
    },
    {
      "cell_type": "markdown",
      "source": [
        "####8. Середньоквадратичне відхилення (MSE)"
      ],
      "metadata": {
        "id": "d8vs0QqDccDk"
      }
    },
    {
      "cell_type": "markdown",
      "source": [
        "$$\n",
        "\\text{MSE показує середню похибку моделі:}\\\\\n",
        "MSE = \\frac{1}{n} \\sum_{i=1}^n \\left( Y_i - \\hat{Y}_i \\right)^2\n",
        "$$"
      ],
      "metadata": {
        "id": "cPMmFmQbcfVz"
      }
    },
    {
      "cell_type": "markdown",
      "source": [
        "####9. Відносне середньоквадратичне відхилення (RMSE)"
      ],
      "metadata": {
        "id": "9QEEzfGncieB"
      }
    },
    {
      "cell_type": "markdown",
      "source": [
        "$$\n",
        "\\text{RMSE - корінь із середньоквадратичного відхилення:}\\\\\n",
        "RMSE = \\sqrt{MSE}\n",
        "$$"
      ],
      "metadata": {
        "id": "Ql1uYgNbcmTb"
      }
    },
    {
      "cell_type": "markdown",
      "source": [
        "#### 10.Нормоване відносне середньоквадратичне відхилення (NRMSE)"
      ],
      "metadata": {
        "id": "aPQkdibecqi6"
      }
    },
    {
      "cell_type": "markdown",
      "source": [
        "$$\n",
        "\\text{NRMSE нормалізує похибку відносно середнього значення Y:}\\\\\n",
        "NRMSE = \\frac{RMSE}{\\bar{Y}} \\cdot 100\\%\n",
        "$$"
      ],
      "metadata": {
        "id": "GvL4m8m8cuLA"
      }
    },
    {
      "cell_type": "markdown",
      "source": [
        "##*Практична частина*"
      ],
      "metadata": {
        "id": "-uP2mqjXe34u"
      }
    },
    {
      "cell_type": "markdown",
      "source": [
        "##**Завдання №1 (без вільного члену)**"
      ],
      "metadata": {
        "id": "zqiQE2MfAbdc"
      }
    },
    {
      "cell_type": "markdown",
      "source": [
        "Давайте розпочнемо нашу роботу. По-перше, підключимо всі необхідні бібліотеки:"
      ],
      "metadata": {
        "id": "V-XB5CHa_SsQ"
      }
    },
    {
      "cell_type": "markdown",
      "source": [
        "###Завантаження бібліотек"
      ],
      "metadata": {
        "id": "JYUWkWr5fBJt"
      }
    },
    {
      "cell_type": "code",
      "execution_count": 10,
      "metadata": {
        "id": "tbYw6cYVZM2s"
      },
      "outputs": [],
      "source": [
        "import pandas as pd\n",
        "import numpy as np\n",
        "import matplotlib.pyplot as plt\n",
        "from sklearn.linear_model import LinearRegression\n",
        "from sklearn.metrics import r2_score, mean_squared_error"
      ]
    },
    {
      "cell_type": "markdown",
      "source": [
        "Тепер треба завантажити дані, які були в нашому Excel файлі. Перед цим його треба було трохи почистити і просто залишити першу таблицю. Цей файл я завантажила собі в GitHub і прикрепила посилання для завантаження даних:"
      ],
      "metadata": {
        "id": "fxrggXlJ_h0Z"
      }
    },
    {
      "cell_type": "code",
      "source": [
        "# Завантаження даних з GitHub\n",
        "url = \"https://raw.githubusercontent.com/kurkur19/Intelligent_Data_Analysis_Al_Khmuz_BS_25/refs/heads/main/%D0%94%D0%B0%D0%BD%D1%96%20%D0%B1%D0%B5%D0%B7%20%D0%B2%D1%96%D0%BB%D1%8C%D0%BD%D0%BE%D0%B3%D0%BE%20%D1%87%D0%BB%D0%B5%D0%BD%D0%B0.csv\"\n",
        "data = pd.read_csv(url)"
      ],
      "metadata": {
        "id": "GHYookQZ_-GN"
      },
      "execution_count": 11,
      "outputs": []
    },
    {
      "cell_type": "markdown",
      "source": [
        "Далі вже знайомі нам етапи підготовки даних для аналізу"
      ],
      "metadata": {
        "id": "bRgC61zlAAza"
      }
    },
    {
      "cell_type": "code",
      "source": [
        "# Підготовка даних для аналізу\n",
        "X = data[[\"Х1\", \"Х2\", \"Х3\"]].values  # Вхідні змінні\n",
        "Y = data[\"Y\"].values  # Цільова змінна"
      ],
      "metadata": {
        "id": "qdeol4QiAKmN"
      },
      "execution_count": 12,
      "outputs": []
    },
    {
      "cell_type": "code",
      "source": [
        "# Модель лінійної регресії без вільного члена\n",
        "model_no_intercept = LinearRegression(fit_intercept=False)\n",
        "model_no_intercept.fit(X, Y)\n",
        "\n",
        "# Отримання коефіцієнтів\n",
        "coefficients_no_intercept = model_no_intercept.coef_\n",
        "\n",
        "# Прогнозування\n",
        "predictions_no_intercept = model_no_intercept.predict(X)\n",
        "\n",
        "# Обчислення показників якості\n",
        "# 1. Коефіцієнт детермінації (R^2)\n",
        "r_squared = r2_score(Y, predictions_no_intercept)\n",
        "\n",
        "# 2. Середньоквадратична похибка (RMSE)\n",
        "rmse = np.sqrt(mean_squared_error(Y, predictions_no_intercept))\n",
        "\n",
        "# 3. Середнє значення Y\n",
        "mean_y = np.mean(Y)\n",
        "\n",
        "# 4. Відносна RMSE (ВСКП)\n",
        "relative_rmse = rmse / mean_y\n",
        "\n",
        "# 5. Нормалізована RMSE (НВСКП)\n",
        "normalized_rmse = rmse / (np.max(Y) - np.min(Y))\n",
        "\n",
        "# Виведення результатів\n",
        "print(\"Коефіцієнти моделі без вільного члена:\", coefficients_no_intercept)\n",
        "print(\"Прогнозовані значення:\", predictions_no_intercept)\n",
        "print(\"\\nПоказники якості моделі:\")\n",
        "print(\"Коефіцієнт детермінації (R^2):\", r_squared)\n",
        "print(\"Середньоквадратична похибка (RMSE):\", rmse)\n",
        "print(\"Відносна RMSE (ВСКП):\", relative_rmse)\n",
        "print(\"Нормалізована RMSE (НВСКП):\", normalized_rmse)\n"
      ],
      "metadata": {
        "id": "E5avem203Co_",
        "outputId": "73356e6c-0ce9-48d7-d683-b19283e9ab2d",
        "colab": {
          "base_uri": "https://localhost:8080/"
        }
      },
      "execution_count": 13,
      "outputs": [
        {
          "output_type": "stream",
          "name": "stdout",
          "text": [
            "Коефіцієнти моделі без вільного члена: [0.35740316 0.40443859 0.47019153]\n",
            "Прогнозовані значення: [1.10593959 0.97940742 0.92410235 1.04045775 0.98221127 1.05086168\n",
            " 1.13509134 0.79886146 1.00367453]\n",
            "\n",
            "Показники якості моделі:\n",
            "Коефіцієнт детермінації (R^2): -0.955818209296502\n",
            "Середньоквадратична похибка (RMSE): 0.13154955095026324\n",
            "Відносна RMSE (ВСКП): 0.1301259728077465\n",
            "Нормалізована RMSE (НВСКП): 0.4045562350470931\n"
          ]
        }
      ]
    },
    {
      "cell_type": "markdown",
      "source": [
        "###Аналіз результатів"
      ],
      "metadata": {
        "id": "Afht9Mo98QQ7"
      }
    },
    {
      "cell_type": "markdown",
      "source": [
        "***Коефіцієнти моделі:***\n",
        "\n",
        "- Модель без вільного члена має коефіцієнти\n",
        "a1 = 0.3574, 𝑎2 = 0.4044, 𝑎3=0.4702. Це означає, що кожна вхідна змінна має певний вплив на результуючу змінну 𝑌.\n",
        "\n",
        "***Прогнозовані значення:***\n",
        "\n",
        "- Модель прогнозує значення в межах [0.799, 1.135], що наближається до реальних значень, але є відхилення.\n",
        "\n",
        "***Якість моделі:***\n",
        "\n",
        "- Коефіцієнт детермінації (R²): Значення 𝑅2=−0.956 вказує на те, що модель пояснює варіацію даних гірше, ніж середнє значення. Це свідчить про низьку якість моделі.\n",
        "\n",
        "- СКП (RMSE): 𝑅𝑀𝑆𝐸=0.1315, що вказує на середнє відхилення прогнозів від реальних значень.\n",
        "\n",
        "- ВСКП (Relative RMSE): 13.01% свідчить про досить високу похибку моделі.\n",
        "\n",
        "- НВСКП (Normalized RMSE): 40.46% показує, що відхилення моделі є значним у порівнянні з діапазоном значень 𝑌."
      ],
      "metadata": {
        "id": "f-Mei7n28hSf"
      }
    },
    {
      "cell_type": "code",
      "source": [
        "# Візуалізація\n",
        "plt.figure(figsize=(10, 6))\n",
        "plt.plot(Y, label=\"Реальні значення\", marker=\"o\", color=\"blue\")\n",
        "plt.plot(predictions_no_intercept, label=\"Прогнозовані значення\", marker=\"x\", color=\"red\")\n",
        "plt.title(\"Порівняння реальних та прогнозованих значень\")\n",
        "plt.xlabel(\"Номер спостереження\")\n",
        "plt.ylabel(\"Y\")\n",
        "plt.legend()\n",
        "plt.grid(True)\n",
        "plt.show()"
      ],
      "metadata": {
        "id": "sHsYb4C43X9n",
        "outputId": "e12edb20-8aa8-4586-dc28-3604a78fd216",
        "colab": {
          "base_uri": "https://localhost:8080/",
          "height": 564
        }
      },
      "execution_count": 9,
      "outputs": [
        {
          "output_type": "display_data",
          "data": {
            "text/plain": [
              "<Figure size 1000x600 with 1 Axes>"
            ],
            "image/png": "[encoded data removed]"
          },
          "metadata": {}
        }
      ]
    },
    {
      "cell_type": "markdown",
      "source": [
        "###Аналіз графіка"
      ],
      "metadata": {
        "id": "AyG7BTaH-X_L"
      }
    },
    {
      "cell_type": "markdown",
      "source": [
        "На графіку видно значне відхилення прогнозованих значень від реальних, особливо на спостереженнях 2, 7 і 8. Це вказує на те, що модель без вільного члена не відображає реальні закономірності в даних."
      ],
      "metadata": {
        "id": "ugMZ8zIt-azc"
      }
    },
    {
      "cell_type": "markdown",
      "source": [
        "##**Завдання №2 (з вільним членом)**"
      ],
      "metadata": {
        "id": "XQ7Y5Xg-5k0Y"
      }
    },
    {
      "cell_type": "code",
      "source": [
        "# Завантаження необхідних бібліотек\n",
        "import pandas as pd\n",
        "import numpy as np\n",
        "import matplotlib.pyplot as plt\n",
        "from sklearn.linear_model import LinearRegression\n",
        "from sklearn.metrics import r2_score, mean_squared_error"
      ],
      "metadata": {
        "id": "XdGQPxe6AsMT"
      },
      "execution_count": 14,
      "outputs": []
    },
    {
      "cell_type": "markdown",
      "source": [
        "Тут зробила теж саме, але вже для другої таблиці:"
      ],
      "metadata": {
        "id": "Wl2AulhbCsYq"
      }
    },
    {
      "cell_type": "code",
      "source": [
        "# Завантаження даних з GitHub\n",
        "url_with_intercept = \"https://raw.githubusercontent.com/kurkur19/Intelligent_Data_Analysis_Al_Khmuz_BS_25/refs/heads/main/%D0%94%D0%B0%D0%BD%D1%96%20%D0%B7%20%D0%B2%D1%96%D0%BB%D1%8C%D0%BD%D0%B8%D0%BC%20%D1%87%D0%BB%D0%B5%D0%BD%D0%BE%D0%BC.csv\"\n",
        "data_with_intercept = pd.read_csv(url_with_intercept)\n",
        "data_with_intercept"
      ],
      "metadata": {
        "id": "Nj8NrZ5bAwOi",
        "outputId": "8d1dc6d0-5921-4284-f597-04e9d305fb18",
        "colab": {
          "base_uri": "https://localhost:8080/",
          "height": 331
        }
      },
      "execution_count": 18,
      "outputs": [
        {
          "output_type": "execute_result",
          "data": {
            "text/plain": [
              "    Х  Х0    Х1       Х2       Х3  Unnamed: 5        Y\n",
              "0  О1   1  0.68  0.97101  1.00000         NaN  0.88525\n",
              "1  О2   1  0.45  0.92424  0.94595         NaN  0.97241\n",
              "2  О3   1  0.34  0.72222  1.08571         NaN  1.02941\n",
              "3  О4   1  0.66  0.93750  0.90476         NaN  1.06452\n",
              "4  О5   1  0.64  0.83607  0.88333         NaN  1.07143\n",
              "5  О6   1  0.51  0.94118  1.03774         NaN  0.84483\n",
              "6  О7   1  0.88  1.25000  0.67000         NaN  1.17000\n",
              "7  О8   1  0.50  0.71429  0.70455         NaN  1.00000\n",
              "8  О9   1  0.32  0.95122  1.07317         NaN  1.06061"
            ],
            "text/html": [
              "\n",
              "  <div id=\"df-005ba802-f702-4082-aa72-71f2f8f5ce8f\" class=\"colab-df-container\">\n",
              "    <div>\n",
              "<style scoped>\n",
              "    .dataframe tbody tr th:only-of-type {\n",
              "        vertical-align: middle;\n",
              "    }\n",
              "\n",
              "    .dataframe tbody tr th {\n",
              "        vertical-align: top;\n",
              "    }\n",
              "\n",
              "    .dataframe thead th {\n",
              "        text-align: right;\n",
              "    }\n",
              "</style>\n",
              "<table border=\"1\" class=\"dataframe\">\n",
              "  <thead>\n",
              "    <tr style=\"text-align: right;\">\n",
              "      <th></th>\n",
              "      <th>Х</th>\n",
              "      <th>Х0</th>\n",
              "      <th>Х1</th>\n",
              "      <th>Х2</th>\n",
              "      <th>Х3</th>\n",
              "      <th>Unnamed: 5</th>\n",
              "      <th>Y</th>\n",
              "    </tr>\n",
              "  </thead>\n",
              "  <tbody>\n",
              "    <tr>\n",
              "      <th>0</th>\n",
              "      <td>О1</td>\n",
              "      <td>1</td>\n",
              "      <td>0.68</td>\n",
              "      <td>0.97101</td>\n",
              "      <td>1.00000</td>\n",
              "      <td>NaN</td>\n",
              "      <td>0.88525</td>\n",
              "    </tr>\n",
              "    <tr>\n",
              "      <th>1</th>\n",
              "      <td>О2</td>\n",
              "      <td>1</td>\n",
              "      <td>0.45</td>\n",
              "      <td>0.92424</td>\n",
              "      <td>0.94595</td>\n",
              "      <td>NaN</td>\n",
              "      <td>0.97241</td>\n",
              "    </tr>\n",
              "    <tr>\n",
              "      <th>2</th>\n",
              "      <td>О3</td>\n",
              "      <td>1</td>\n",
              "      <td>0.34</td>\n",
              "      <td>0.72222</td>\n",
              "      <td>1.08571</td>\n",
              "      <td>NaN</td>\n",
              "      <td>1.02941</td>\n",
              "    </tr>\n",
              "    <tr>\n",
              "      <th>3</th>\n",
              "      <td>О4</td>\n",
              "      <td>1</td>\n",
              "      <td>0.66</td>\n",
              "      <td>0.93750</td>\n",
              "      <td>0.90476</td>\n",
              "      <td>NaN</td>\n",
              "      <td>1.06452</td>\n",
              "    </tr>\n",
              "    <tr>\n",
              "      <th>4</th>\n",
              "      <td>О5</td>\n",
              "      <td>1</td>\n",
              "      <td>0.64</td>\n",
              "      <td>0.83607</td>\n",
              "      <td>0.88333</td>\n",
              "      <td>NaN</td>\n",
              "      <td>1.07143</td>\n",
              "    </tr>\n",
              "    <tr>\n",
              "      <th>5</th>\n",
              "      <td>О6</td>\n",
              "      <td>1</td>\n",
              "      <td>0.51</td>\n",
              "      <td>0.94118</td>\n",
              "      <td>1.03774</td>\n",
              "      <td>NaN</td>\n",
              "      <td>0.84483</td>\n",
              "    </tr>\n",
              "    <tr>\n",
              "      <th>6</th>\n",
              "      <td>О7</td>\n",
              "      <td>1</td>\n",
              "      <td>0.88</td>\n",
              "      <td>1.25000</td>\n",
              "      <td>0.67000</td>\n",
              "      <td>NaN</td>\n",
              "      <td>1.17000</td>\n",
              "    </tr>\n",
              "    <tr>\n",
              "      <th>7</th>\n",
              "      <td>О8</td>\n",
              "      <td>1</td>\n",
              "      <td>0.50</td>\n",
              "      <td>0.71429</td>\n",
              "      <td>0.70455</td>\n",
              "      <td>NaN</td>\n",
              "      <td>1.00000</td>\n",
              "    </tr>\n",
              "    <tr>\n",
              "      <th>8</th>\n",
              "      <td>О9</td>\n",
              "      <td>1</td>\n",
              "      <td>0.32</td>\n",
              "      <td>0.95122</td>\n",
              "      <td>1.07317</td>\n",
              "      <td>NaN</td>\n",
              "      <td>1.06061</td>\n",
              "    </tr>\n",
              "  </tbody>\n",
              "</table>\n",
              "</div>\n",
              "    <div class=\"colab-df-buttons\">\n",
              "\n",
              "  <div class=\"colab-df-container\">\n",
              "    <button class=\"colab-df-convert\" onclick=\"convertToInteractive('df-005ba802-f702-4082-aa72-71f2f8f5ce8f')\"\n",
              "            title=\"Convert this dataframe to an interactive table.\"\n",
              "            style=\"display:none;\">\n",
              "\n",
              "  <svg xmlns=\"http://www.w3.org/2000/svg\" height=\"24px\" viewBox=\"0 -960 960 960\">\n",
              "    <path d=\"M120-120v-720h720v720H120Zm60-500h600v-160H180v160Zm220 220h160v-160H400v160Zm0 220h160v-160H400v160ZM180-400h160v-160H180v160Zm440 0h160v-160H620v160ZM180-180h160v-160H180v160Zm440 0h160v-160H620v160Z\"/>\n",
              "  </svg>\n",
              "    </button>\n",
              "\n",
              "  <style>\n",
              "    .colab-df-container {\n",
              "      display:flex;\n",
              "      gap: 12px;\n",
              "    }\n",
              "\n",
              "    .colab-df-convert {\n",
              "      background-color: #E8F0FE;\n",
              "      border: none;\n",
              "      border-radius: 50%;\n",
              "      cursor: pointer;\n",
              "      display: none;\n",
              "      fill: #1967D2;\n",
              "      height: 32px;\n",
              "      padding: 0 0 0 0;\n",
              "      width: 32px;\n",
              "    }\n",
              "\n",
              "    .colab-df-convert:hover {\n",
              "      background-color: #E2EBFA;\n",
              "      box-shadow: 0px 1px 2px rgba(60, 64, 67, 0.3), 0px 1px 3px 1px rgba(60, 64, 67, 0.15);\n",
              "      fill: #174EA6;\n",
              "    }\n",
              "\n",
              "    .colab-df-buttons div {\n",
              "      margin-bottom: 4px;\n",
              "    }\n",
              "\n",
              "    [theme=dark] .colab-df-convert {\n",
              "      background-color: #3B4455;\n",
              "      fill: #D2E3FC;\n",
              "    }\n",
              "\n",
              "    [theme=dark] .colab-df-convert:hover {\n",
              "      background-color: #434B5C;\n",
              "      box-shadow: 0px 1px 3px 1px rgba(0, 0, 0, 0.15);\n",
              "      filter: drop-shadow(0px 1px 2px rgba(0, 0, 0, 0.3));\n",
              "      fill: #FFFFFF;\n",
              "    }\n",
              "  </style>\n",
              "\n",
              "    <script>\n",
              "      const buttonEl =\n",
              "        document.querySelector('#df-005ba802-f702-4082-aa72-71f2f8f5ce8f button.colab-df-convert');\n",
              "      buttonEl.style.display =\n",
              "        google.colab.kernel.accessAllowed ? 'block' : 'none';\n",
              "\n",
              "      async function convertToInteractive(key) {\n",
              "        const element = document.querySelector('#df-005ba802-f702-4082-aa72-71f2f8f5ce8f');\n",
              "        const dataTable =\n",
              "          await google.colab.kernel.invokeFunction('convertToInteractive',\n",
              "                                                    [key], {});\n",
              "        if (!dataTable) return;\n",
              "\n",
              "        const docLinkHtml = 'Like what you see? Visit the ' +\n",
              "          '<a target=\"_blank\" href=https://colab.research.google.com/notebooks/data_table.ipynb>data table notebook</a>'\n",
              "          + ' to learn more about interactive tables.';\n",
              "        element.innerHTML = '';\n",
              "        dataTable['output_type'] = 'display_data';\n",
              "        await google.colab.output.renderOutput(dataTable, element);\n",
              "        const docLink = document.createElement('div');\n",
              "        docLink.innerHTML = docLinkHtml;\n",
              "        element.appendChild(docLink);\n",
              "      }\n",
              "    </script>\n",
              "  </div>\n",
              "\n",
              "\n",
              "<div id=\"df-5d5d6d7f-9174-4799-8dea-e082efb21523\">\n",
              "  <button class=\"colab-df-quickchart\" onclick=\"quickchart('df-5d5d6d7f-9174-4799-8dea-e082efb21523')\"\n",
              "            title=\"Suggest charts\"\n",
              "            style=\"display:none;\">\n",
              "\n",
              "<svg xmlns=\"http://www.w3.org/2000/svg\" height=\"24px\"viewBox=\"0 0 24 24\"\n",
              "     width=\"24px\">\n",
              "    <g>\n",
              "        <path d=\"M19 3H5c-1.1 0-2 .9-2 2v14c0 1.1.9 2 2 2h14c1.1 0 2-.9 2-2V5c0-1.1-.9-2-2-2zM9 17H7v-7h2v7zm4 0h-2V7h2v10zm4 0h-2v-4h2v4z\"/>\n",
              "    </g>\n",
              "</svg>\n",
              "  </button>\n",
              "\n",
              "<style>\n",
              "  .colab-df-quickchart {\n",
              "      --bg-color: #E8F0FE;\n",
              "      --fill-color: #1967D2;\n",
              "      --hover-bg-color: #E2EBFA;\n",
              "      --hover-fill-color: #174EA6;\n",
              "      --disabled-fill-color: #AAA;\n",
              "      --disabled-bg-color: #DDD;\n",
              "  }\n",
              "\n",
              "  [theme=dark] .colab-df-quickchart {\n",
              "      --bg-color: #3B4455;\n",
              "      --fill-color: #D2E3FC;\n",
              "      --hover-bg-color: #434B5C;\n",
              "      --hover-fill-color: #FFFFFF;\n",
              "      --disabled-bg-color: #3B4455;\n",
              "      --disabled-fill-color: #666;\n",
              "  }\n",
              "\n",
              "  .colab-df-quickchart {\n",
              "    background-color: var(--bg-color);\n",
              "    border: none;\n",
              "    border-radius: 50%;\n",
              "    cursor: pointer;\n",
              "    display: none;\n",
              "    fill: var(--fill-color);\n",
              "    height: 32px;\n",
              "    padding: 0;\n",
              "    width: 32px;\n",
              "  }\n",
              "\n",
              "  .colab-df-quickchart:hover {\n",
              "    background-color: var(--hover-bg-color);\n",
              "    box-shadow: 0 1px 2px rgba(60, 64, 67, 0.3), 0 1px 3px 1px rgba(60, 64, 67, 0.15);\n",
              "    fill: var(--button-hover-fill-color);\n",
              "  }\n",
              "\n",
              "  .colab-df-quickchart-complete:disabled,\n",
              "  .colab-df-quickchart-complete:disabled:hover {\n",
              "    background-color: var(--disabled-bg-color);\n",
              "    fill: var(--disabled-fill-color);\n",
              "    box-shadow: none;\n",
              "  }\n",
              "\n",
              "  .colab-df-spinner {\n",
              "    border: 2px solid var(--fill-color);\n",
              "    border-color: transparent;\n",
              "    border-bottom-color: var(--fill-color);\n",
              "    animation:\n",
              "      spin 1s steps(1) infinite;\n",
              "  }\n",
              "\n",
              "  @keyframes spin {\n",
              "    0% {\n",
              "      border-color: transparent;\n",
              "      border-bottom-color: var(--fill-color);\n",
              "      border-left-color: var(--fill-color);\n",
              "    }\n",
              "    20% {\n",
              "      border-color: transparent;\n",
              "      border-left-color: var(--fill-color);\n",
              "      border-top-color: var(--fill-color);\n",
              "    }\n",
              "    30% {\n",
              "      border-color: transparent;\n",
              "      border-left-color: var(--fill-color);\n",
              "      border-top-color: var(--fill-color);\n",
              "      border-right-color: var(--fill-color);\n",
              "    }\n",
              "    40% {\n",
              "      border-color: transparent;\n",
              "      border-right-color: var(--fill-color);\n",
              "      border-top-color: var(--fill-color);\n",
              "    }\n",
              "    60% {\n",
              "      border-color: transparent;\n",
              "      border-right-color: var(--fill-color);\n",
              "    }\n",
              "    80% {\n",
              "      border-color: transparent;\n",
              "      border-right-color: var(--fill-color);\n",
              "      border-bottom-color: var(--fill-color);\n",
              "    }\n",
              "    90% {\n",
              "      border-color: transparent;\n",
              "      border-bottom-color: var(--fill-color);\n",
              "    }\n",
              "  }\n",
              "</style>\n",
              "\n",
              "  <script>\n",
              "    async function quickchart(key) {\n",
              "      const quickchartButtonEl =\n",
              "        document.querySelector('#' + key + ' button');\n",
              "      quickchartButtonEl.disabled = true;  // To prevent multiple clicks.\n",
              "      quickchartButtonEl.classList.add('colab-df-spinner');\n",
              "      try {\n",
              "        const charts = await google.colab.kernel.invokeFunction(\n",
              "            'suggestCharts', [key], {});\n",
              "      } catch (error) {\n",
              "        console.error('Error during call to suggestCharts:', error);\n",
              "      }\n",
              "      quickchartButtonEl.classList.remove('colab-df-spinner');\n",
              "      quickchartButtonEl.classList.add('colab-df-quickchart-complete');\n",
              "    }\n",
              "    (() => {\n",
              "      let quickchartButtonEl =\n",
              "        document.querySelector('#df-5d5d6d7f-9174-4799-8dea-e082efb21523 button');\n",
              "      quickchartButtonEl.style.display =\n",
              "        google.colab.kernel.accessAllowed ? 'block' : 'none';\n",
              "    })();\n",
              "  </script>\n",
              "</div>\n",
              "    </div>\n",
              "  </div>\n"
            ],
            "application/vnd.google.colaboratory.intrinsic+json": {
              "type": "dataframe",
              "variable_name": "data_with_intercept",
              "summary": "{\n  \"name\": \"data_with_intercept\",\n  \"rows\": 9,\n  \"fields\": [\n    {\n      \"column\": \"\\u0425\",\n      \"properties\": {\n        \"dtype\": \"string\",\n        \"num_unique_values\": 9,\n        \"samples\": [\n          \"\\u041e8\",\n          \"\\u041e2\",\n          \"\\u041e6\"\n        ],\n        \"semantic_type\": \"\",\n        \"description\": \"\"\n      }\n    },\n    {\n      \"column\": \"\\u04250\",\n      \"properties\": {\n        \"dtype\": \"number\",\n        \"std\": 0,\n        \"min\": 1,\n        \"max\": 1,\n        \"num_unique_values\": 1,\n        \"samples\": [\n          1\n        ],\n        \"semantic_type\": \"\",\n        \"description\": \"\"\n      }\n    },\n    {\n      \"column\": \"\\u04251\",\n      \"properties\": {\n        \"dtype\": \"number\",\n        \"std\": 0.1792344832893492,\n        \"min\": 0.32,\n        \"max\": 0.88,\n        \"num_unique_values\": 9,\n        \"samples\": [\n          0.5\n        ],\n        \"semantic_type\": \"\",\n        \"description\": \"\"\n      }\n    },\n    {\n      \"column\": \"\\u04252\",\n      \"properties\": {\n        \"dtype\": \"number\",\n        \"std\": 0.15874964567764485,\n        \"min\": 0.71429,\n        \"max\": 1.25,\n        \"num_unique_values\": 9,\n        \"samples\": [\n          0.71429\n        ],\n        \"semantic_type\": \"\",\n        \"description\": \"\"\n      }\n    },\n    {\n      \"column\": \"\\u04253\",\n      \"properties\": {\n        \"dtype\": \"number\",\n        \"std\": 0.15094783705343745,\n        \"min\": 0.67,\n        \"max\": 1.08571,\n        \"num_unique_values\": 9,\n        \"samples\": [\n          0.70455\n        ],\n        \"semantic_type\": \"\",\n        \"description\": \"\"\n      }\n    },\n    {\n      \"column\": \"Unnamed: 5\",\n      \"properties\": {\n        \"dtype\": \"number\",\n        \"std\": null,\n        \"min\": null,\n        \"max\": null,\n        \"num_unique_values\": 0,\n        \"samples\": [],\n        \"semantic_type\": \"\",\n        \"description\": \"\"\n      }\n    },\n    {\n      \"column\": \"Y\",\n      \"properties\": {\n        \"dtype\": \"number\",\n        \"std\": 0.09977032537282818,\n        \"min\": 0.84483,\n        \"max\": 1.17,\n        \"num_unique_values\": 9,\n        \"samples\": [],\n        \"semantic_type\": \"\",\n        \"description\": \"\"\n      }\n    }\n  ]\n}"
            }
          },
          "metadata": {},
          "execution_count": 18
        }
      ]
    },
    {
      "cell_type": "markdown",
      "source": [
        "По суті, ми робимо теж саме, але тепер з вільним членом. В нас з'явилася нова колонка \"Х0\" і в цьому завданні нам треба замінити дані в цій колонці на свій варіант."
      ],
      "metadata": {
        "id": "UiEbHCSoBORd"
      }
    },
    {
      "cell_type": "markdown",
      "source": [
        "Але так як я маю перший варіант, то немає сенсу щось змінювати, так як там і так вже стоїть одиниця :)"
      ],
      "metadata": {
        "id": "HDkU2nthBovg"
      }
    },
    {
      "cell_type": "markdown",
      "source": [
        "Тож продовжуємо нашу роботу, треба підготувати наші дані для аналізу:"
      ],
      "metadata": {
        "id": "Y1jY9Sg-B1gM"
      }
    },
    {
      "cell_type": "code",
      "source": [
        "# Підготовка даних для аналізу\n",
        "X_with_intercept = data_with_intercept[[\"Х0\", \"Х1\", \"Х2\", \"Х3\"]].values  # Вхідні змінні\n",
        "Y_with_intercept = data_with_intercept[\"Y\"].values  # Цільова змінна"
      ],
      "metadata": {
        "id": "jyDesChTCDI_"
      },
      "execution_count": 19,
      "outputs": []
    },
    {
      "cell_type": "code",
      "source": [
        "# Модель лінійної регресії з вільним членом\n",
        "model_with_intercept = LinearRegression(fit_intercept=False)\n",
        "model_with_intercept.fit(X_with_intercept, Y_with_intercept)\n",
        "\n",
        "# Отримання коефіцієнтів\n",
        "coefficients_with_intercept = model_with_intercept.coef_\n",
        "\n",
        "# Прогнозування\n",
        "predictions_with_intercept = model_with_intercept.predict(X_with_intercept)\n",
        "\n",
        "# Обчислення показників якості\n",
        "# 1. Коефіцієнт детермінації (R^2)\n",
        "r_squared_with_intercept = r2_score(Y_with_intercept, predictions_with_intercept)\n",
        "\n",
        "# 2. Середньоквадратична похибка (RMSE)\n",
        "rmse_with_intercept = np.sqrt(mean_squared_error(Y_with_intercept, predictions_with_intercept))\n",
        "\n",
        "# 3. Середнє значення Y\n",
        "mean_y_with_intercept = np.mean(Y_with_intercept)\n",
        "\n",
        "# 4. Відносна RMSE (ВСКП)\n",
        "relative_rmse_with_intercept = rmse_with_intercept / mean_y_with_intercept\n",
        "\n",
        "# 5. Нормалізована RMSE (НВСКП)\n",
        "normalized_rmse_with_intercept = rmse_with_intercept / (np.max(Y_with_intercept) - np.min(Y_with_intercept))\n",
        "\n",
        "# Виведення результатів\n",
        "print(\"Коефіцієнти моделі з вільним членом:\", coefficients_with_intercept)\n",
        "print(\"Прогнозовані значення:\", predictions_with_intercept)\n",
        "print(\"\\nПоказники якості моделі:\")\n",
        "print(\"Коефіцієнт детермінації (R^2):\", r_squared_with_intercept)\n",
        "print(\"Середньоквадратична похибка (RMSE):\", rmse_with_intercept)\n",
        "print(\"Відносна RMSE (ВСКП):\", relative_rmse_with_intercept)\n",
        "print(\"Нормалізована RMSE (НВСКП):\", normalized_rmse_with_intercept)\n",
        "\n",
        "# Візуалізація\n",
        "plt.figure(figsize=(10, 6))\n",
        "plt.plot(Y_with_intercept, label=\"Реальні значення\", marker=\"o\", color=\"blue\")\n",
        "plt.plot(predictions_with_intercept, label=\"Прогнозовані значення\", marker=\"x\", color=\"red\")\n",
        "plt.title(\"Порівняння реальних та прогнозованих значень (з вільним членом)\")\n",
        "plt.xlabel(\"Номер спостереження\")\n",
        "plt.ylabel(\"Y\")\n",
        "plt.legend()\n",
        "plt.grid(True)\n",
        "plt.show()\n"
      ],
      "metadata": {
        "id": "4rc6lndl5mFc",
        "outputId": "3cfe7565-bfd1-4cf3-e173-a61b0d698fd1",
        "colab": {
          "base_uri": "https://localhost:8080/",
          "height": 720
        }
      },
      "execution_count": 20,
      "outputs": [
        {
          "output_type": "stream",
          "name": "stdout",
          "text": [
            "Коефіцієнти моделі з вільним членом: [ 1.30302508 -0.20149664  0.2258947  -0.42002923]\n",
            "Прогнозовані значення: [0.96532415 1.02380586 0.94163196 1.00178793 0.99190659 0.97698824\n",
            " 1.12665683 1.06769949 1.00265894]\n",
            "\n",
            "Показники якості моделі:\n",
            "Коефіцієнт детермінації (R^2): 0.3180755772111391\n",
            "Середньоквадратична похибка (RMSE): 0.0776771440840465\n",
            "Відносна RMSE (ВСКП): 0.07683655220294625\n",
            "Нормалізована RMSE (НВСКП): 0.238881643706512\n"
          ]
        },
        {
          "output_type": "display_data",
          "data": {
            "text/plain": [
              "<Figure size 1000x600 with 1 Axes>"
            ],
            "image/png": "[encoded data removed]"
          },
          "metadata": {}
        }
      ]
    },
    {
      "cell_type": "markdown",
      "source": [
        "###Аналіз результатів"
      ],
      "metadata": {
        "id": "Dg4crAJL-h2d"
      }
    },
    {
      "cell_type": "markdown",
      "source": [
        "Модель лінійної регресії з вільним членом показала значно кращі результати. Коефіцієнт детермінації 𝑅2 = 0.318 свідчить про помітне покращення у здатності моделі пояснювати варіацію даних. Середньоквадратична похибка зменшилась до 0.0777, а відносна RMSE — до 7.68%, що підтверджує підвищення точності прогнозів. На графіку видно, що прогнозовані значення стали ближчими до реальних, що робить модель більш релевантною для використання. Таким чином, додавання вільного члена дозволило суттєво підвищити якість регресійної моделі для цього набору даних."
      ],
      "metadata": {
        "id": "CYD7r_OM-mBl"
      }
    },
    {
      "cell_type": "markdown",
      "source": [
        "##**Загальний висновок**\n",
        "\n",
        "Проведений аналіз показав, що додавання вільного члена суттєво покращує якість лінійної регресійної моделі. Модель без вільного члена продемонструвала низьку здатність пояснювати залежності в даних, що підтверджується негативним значенням коефіцієнта детермінації (𝑅2) і значним розривом між реальними та прогнозованими значеннями. Натомість модель з вільним членом значно підвищила точність прогнозів і пояснення варіації даних, що відображено у кращих значеннях 𝑅2, RMSE, та інших метрик якості.\n",
        "\n",
        "Таким чином, додавання вільного члена є важливим елементом у побудові регресійних моделей, особливо для наборів даних, де базовий рівень залежності між змінними відіграє ключову роль. Для подальшого підвищення точності моделі можна розглянути нелінійні залежності або додаткові змінні."
      ],
      "metadata": {
        "id": "kVXDKBlN-sza"
      }
    }
  ]
}