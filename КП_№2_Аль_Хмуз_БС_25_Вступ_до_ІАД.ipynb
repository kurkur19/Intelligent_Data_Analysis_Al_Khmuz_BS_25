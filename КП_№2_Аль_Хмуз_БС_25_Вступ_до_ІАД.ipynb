{
  "nbformat": 4,
  "nbformat_minor": 0,
  "metadata": {
    "colab": {
      "provenance": [],
      "toc_visible": true,
      "authorship_tag": "ABX9TyOwrsJCIBsx0TI/3NrRdt8p",
      "include_colab_link": true
    },
    "kernelspec": {
      "name": "python3",
      "display_name": "Python 3"
    },
    "language_info": {
      "name": "python"
    }
  },
  "cells": [
    {
      "cell_type": "markdown",
      "metadata": {
        "id": "view-in-github",
        "colab_type": "text"
      },
      "source": [
        "<a href=\"https://colab.research.google.com/github/kurkur19/Intelligent_Data_Analysis_Al_Khmuz_BS_25/blob/main/%D0%9A%D0%9F_%E2%84%962_%D0%90%D0%BB%D1%8C_%D0%A5%D0%BC%D1%83%D0%B7_%D0%91%D0%A1_25_%D0%92%D1%81%D1%82%D1%83%D0%BF_%D0%B4%D0%BE_%D0%86%D0%90%D0%94.ipynb\" target=\"_parent\"><img src=\"https://colab.research.google.com/assets/colab-badge.svg\" alt=\"Open In Colab\"/></a>"
      ]
    },
    {
      "cell_type": "markdown",
      "source": [
        "# Лабораторна робота 2: Кластерний аналіз методом к-середніх\n",
        "### Дисципліна: Вступ до Інтелектуального Аналізу Даних\n",
        "\n"
      ],
      "metadata": {
        "id": "pXnRXiuKiTbL"
      }
    },
    {
      "cell_type": "markdown",
      "source": [
        "##Завдання:\n",
        "\n",
        "1.             Реалізувати кластеризацію у вигляді функції. В якості метрики відстані використовувати квадрат відстані Евкліда.\n",
        "2.             Провести кластерний аналіз з розбиттям на 3, 4 та 5 кластерів на  даних.\n",
        "3.             Візуалізувати результати кластеризації.\n",
        "4.             Реалізувати розрахунок коефіцієнту «силуету». Визначити найбільш вірогідне (точне) розбиття за даною метрикою.\n",
        "5.             Зробити висновки про теоретичну оптимальну кількісті кластерів."
      ],
      "metadata": {
        "id": "nG0psjIPphu7"
      }
    },
    {
      "cell_type": "markdown",
      "source": [
        "##Вихідні дані:\n",
        "Я, Аль Хмуз Карина Бассамівна, маю перший варіант в своїй групі БС-25, тому:\n",
        "\n",
        "1.\tВибір даних для кластеризації– 30 значень\n",
        "2.\t Початок даних: 36\n",
        "3.\tКінець даних: 65\n",
        "4.\tВнутрішньокластерна відстань для 3-7 кластерів. Розраховується як середня відстань між центом кластера та всіма точками, що були включені до даного кластеру.\n",
        "5.\tМіжкластерна відстань для 3-7 кластерів. Розраховується як середня відстань між центом кластера та всіма точками, що були включені до одного іншого кластеру. Міжкластерна відстань розраховується попарно для двох кластерів.                                  \n",
        "    "
      ],
      "metadata": {
        "id": "7zLPEY8dqCGQ"
      }
    },
    {
      "cell_type": "markdown",
      "source": [
        "##Вимоги:\n",
        "1.\tТеоретичні дані (до 1 ст.)\n",
        "2.\tВізуалізацію результатів кластеризації для 3, 4 та 5 кластерів.\n",
        "3.\tРезультати розрахунку коефіцієнту «силуету» для кожного варіанту розбиття.\n",
        "4.\tВисновки про теоретичну оптимальну кількісті кластерів.\n"
      ],
      "metadata": {
        "id": "XRhRplrVrjYu"
      }
    },
    {
      "cell_type": "markdown",
      "source": [
        "##Теоретичний матеріал:\n"
      ],
      "metadata": {
        "id": "12UnsOnKrpKp"
      }
    },
    {
      "cell_type": "markdown",
      "source": [
        "***Кластеризація (кластерний аналіз)*** — це статистична процедура, задача якої полягає в розбитті вибірки об'єктів на підмножини, що не перетинаються і називаються кластерами. Кожен кластер має складається зі схожих об'єктів, а об'єкти різних кластерів мають істотно відрізнятися один від одного.\n",
        "\n",
        " Методи кластеризації відрізняюся припущеннями про вид залежності при відношенні до кластерів (форма кластеру), застосованими мірами схожості, правилами формування кластеру. Наприклад, зараз розглянемо метод k-середніх.\n"
      ],
      "metadata": {
        "id": "JRSpE8mJtvvE"
      }
    },
    {
      "cell_type": "markdown",
      "source": [
        "***Метод k-середніх*** є широко використовуваним методом кластеризації, який прагне мінімізувати середню квадратичну відстань між точками в одному кластері. Незважаючи на те, що він не гарантує абсолютної точності, його простота і швидкість це компенсують.\n",
        "\n",
        "Перевагою методу k-середніх є те, що він більш зручний для кластеризації великої кількості спостережень, а недоліком можна відзначити те, що він чутливий до викидів, які можуть викривити середнє значення, та той факт, що кількість кластерів (що і являє тут собою k) має бути визначена спеціалістом заздалегідь.\n",
        "\n",
        "Для оцінки якості кластеризації можна використовувати коефіцієнт “силуету”, який показує, наскільки добре об'єкти вписуються у свої кластери. Цей коефіцієнт обчислюється для кожного об'єкта як відношення різниці між середньою відстанню до об'єктів свого кластера і середньою відстанню до найближчого сусіднього кластера. Значення коефіцієнту варіюється від -1 до 1, де значення ближче до 1 свідчать про добре сформовані кластери, значення близько до 0 вказують на те, що об'єкт розташований на межі між двома кластерами, а від'ємні значення означають, що об'єкт може бути віднесений до іншого кластеру.\n"
      ],
      "metadata": {
        "id": "JEK4nTABt93s"
      }
    },
    {
      "cell_type": "code",
      "execution_count": 4,
      "metadata": {
        "colab": {
          "base_uri": "https://localhost:8080/",
          "height": 391
        },
        "id": "pCegRrRkh9Ml",
        "outputId": "03c5a067-94cd-4924-ec8f-4f331538506a"
      },
      "outputs": [
        {
          "output_type": "error",
          "ename": "FileNotFoundError",
          "evalue": "[Errno 2] No such file or directory: 'C:/Users/karina/PycharmProjects/pythonProject/3 курс ІАД/prostate'",
          "traceback": [
            "\u001b[0;31m---------------------------------------------------------------------------\u001b[0m",
            "\u001b[0;31mFileNotFoundError\u001b[0m                         Traceback (most recent call last)",
            "\u001b[0;32m<ipython-input-4-6dd0ee1bef80>\u001b[0m in \u001b[0;36m<cell line: 37>\u001b[0;34m()\u001b[0m\n\u001b[1;32m     35\u001b[0m     \u001b[0;32mreturn\u001b[0m \u001b[0msilhouette_scores\u001b[0m\u001b[0;34m\u001b[0m\u001b[0;34m\u001b[0m\u001b[0m\n\u001b[1;32m     36\u001b[0m \u001b[0;34m\u001b[0m\u001b[0m\n\u001b[0;32m---> 37\u001b[0;31m \u001b[0mdmd_data\u001b[0m \u001b[0;34m=\u001b[0m \u001b[0mpd\u001b[0m\u001b[0;34m.\u001b[0m\u001b[0mread_csv\u001b[0m\u001b[0;34m(\u001b[0m\u001b[0;34m'C:/Users/karina/PycharmProjects/pythonProject/3 курс ІАД/prostate'\u001b[0m\u001b[0;34m)\u001b[0m\u001b[0;34m\u001b[0m\u001b[0;34m\u001b[0m\u001b[0m\n\u001b[0m\u001b[1;32m     38\u001b[0m \u001b[0mcut_dmd_data\u001b[0m \u001b[0;34m=\u001b[0m \u001b[0mdmd_data\u001b[0m\u001b[0;34m[\u001b[0m\u001b[0;34m[\u001b[0m\u001b[0;34m'age'\u001b[0m\u001b[0;34m,\u001b[0m \u001b[0;34m'ck'\u001b[0m\u001b[0;34m,\u001b[0m \u001b[0;34m'h'\u001b[0m\u001b[0;34m]\u001b[0m\u001b[0;34m]\u001b[0m\u001b[0;34m\u001b[0m\u001b[0;34m\u001b[0m\u001b[0m\n\u001b[1;32m     39\u001b[0m \u001b[0mdata_in_range\u001b[0m \u001b[0;34m=\u001b[0m \u001b[0mcut_dmd_data\u001b[0m\u001b[0;34m.\u001b[0m\u001b[0miloc\u001b[0m\u001b[0;34m[\u001b[0m\u001b[0;36m165\u001b[0m\u001b[0;34m:\u001b[0m\u001b[0;36m195\u001b[0m\u001b[0;34m]\u001b[0m\u001b[0;34m.\u001b[0m\u001b[0mreset_index\u001b[0m\u001b[0;34m(\u001b[0m\u001b[0mdrop\u001b[0m \u001b[0;34m=\u001b[0m \u001b[0;32mTrue\u001b[0m\u001b[0;34m)\u001b[0m\u001b[0;34m\u001b[0m\u001b[0;34m\u001b[0m\u001b[0m\n",
            "\u001b[0;32m/usr/local/lib/python3.10/dist-packages/pandas/io/parsers/readers.py\u001b[0m in \u001b[0;36mread_csv\u001b[0;34m(filepath_or_buffer, sep, delimiter, header, names, index_col, usecols, dtype, engine, converters, true_values, false_values, skipinitialspace, skiprows, skipfooter, nrows, na_values, keep_default_na, na_filter, verbose, skip_blank_lines, parse_dates, infer_datetime_format, keep_date_col, date_parser, date_format, dayfirst, cache_dates, iterator, chunksize, compression, thousands, decimal, lineterminator, quotechar, quoting, doublequote, escapechar, comment, encoding, encoding_errors, dialect, on_bad_lines, delim_whitespace, low_memory, memory_map, float_precision, storage_options, dtype_backend)\u001b[0m\n\u001b[1;32m   1024\u001b[0m     \u001b[0mkwds\u001b[0m\u001b[0;34m.\u001b[0m\u001b[0mupdate\u001b[0m\u001b[0;34m(\u001b[0m\u001b[0mkwds_defaults\u001b[0m\u001b[0;34m)\u001b[0m\u001b[0;34m\u001b[0m\u001b[0;34m\u001b[0m\u001b[0m\n\u001b[1;32m   1025\u001b[0m \u001b[0;34m\u001b[0m\u001b[0m\n\u001b[0;32m-> 1026\u001b[0;31m     \u001b[0;32mreturn\u001b[0m \u001b[0m_read\u001b[0m\u001b[0;34m(\u001b[0m\u001b[0mfilepath_or_buffer\u001b[0m\u001b[0;34m,\u001b[0m \u001b[0mkwds\u001b[0m\u001b[0;34m)\u001b[0m\u001b[0;34m\u001b[0m\u001b[0;34m\u001b[0m\u001b[0m\n\u001b[0m\u001b[1;32m   1027\u001b[0m \u001b[0;34m\u001b[0m\u001b[0m\n\u001b[1;32m   1028\u001b[0m \u001b[0;34m\u001b[0m\u001b[0m\n",
            "\u001b[0;32m/usr/local/lib/python3.10/dist-packages/pandas/io/parsers/readers.py\u001b[0m in \u001b[0;36m_read\u001b[0;34m(filepath_or_buffer, kwds)\u001b[0m\n\u001b[1;32m    618\u001b[0m \u001b[0;34m\u001b[0m\u001b[0m\n\u001b[1;32m    619\u001b[0m     \u001b[0;31m# Create the parser.\u001b[0m\u001b[0;34m\u001b[0m\u001b[0;34m\u001b[0m\u001b[0m\n\u001b[0;32m--> 620\u001b[0;31m     \u001b[0mparser\u001b[0m \u001b[0;34m=\u001b[0m \u001b[0mTextFileReader\u001b[0m\u001b[0;34m(\u001b[0m\u001b[0mfilepath_or_buffer\u001b[0m\u001b[0;34m,\u001b[0m \u001b[0;34m**\u001b[0m\u001b[0mkwds\u001b[0m\u001b[0;34m)\u001b[0m\u001b[0;34m\u001b[0m\u001b[0;34m\u001b[0m\u001b[0m\n\u001b[0m\u001b[1;32m    621\u001b[0m \u001b[0;34m\u001b[0m\u001b[0m\n\u001b[1;32m    622\u001b[0m     \u001b[0;32mif\u001b[0m \u001b[0mchunksize\u001b[0m \u001b[0;32mor\u001b[0m \u001b[0miterator\u001b[0m\u001b[0;34m:\u001b[0m\u001b[0;34m\u001b[0m\u001b[0;34m\u001b[0m\u001b[0m\n",
            "\u001b[0;32m/usr/local/lib/python3.10/dist-packages/pandas/io/parsers/readers.py\u001b[0m in \u001b[0;36m__init__\u001b[0;34m(self, f, engine, **kwds)\u001b[0m\n\u001b[1;32m   1618\u001b[0m \u001b[0;34m\u001b[0m\u001b[0m\n\u001b[1;32m   1619\u001b[0m         \u001b[0mself\u001b[0m\u001b[0;34m.\u001b[0m\u001b[0mhandles\u001b[0m\u001b[0;34m:\u001b[0m \u001b[0mIOHandles\u001b[0m \u001b[0;34m|\u001b[0m \u001b[0;32mNone\u001b[0m \u001b[0;34m=\u001b[0m \u001b[0;32mNone\u001b[0m\u001b[0;34m\u001b[0m\u001b[0;34m\u001b[0m\u001b[0m\n\u001b[0;32m-> 1620\u001b[0;31m         \u001b[0mself\u001b[0m\u001b[0;34m.\u001b[0m\u001b[0m_engine\u001b[0m \u001b[0;34m=\u001b[0m \u001b[0mself\u001b[0m\u001b[0;34m.\u001b[0m\u001b[0m_make_engine\u001b[0m\u001b[0;34m(\u001b[0m\u001b[0mf\u001b[0m\u001b[0;34m,\u001b[0m \u001b[0mself\u001b[0m\u001b[0;34m.\u001b[0m\u001b[0mengine\u001b[0m\u001b[0;34m)\u001b[0m\u001b[0;34m\u001b[0m\u001b[0;34m\u001b[0m\u001b[0m\n\u001b[0m\u001b[1;32m   1621\u001b[0m \u001b[0;34m\u001b[0m\u001b[0m\n\u001b[1;32m   1622\u001b[0m     \u001b[0;32mdef\u001b[0m \u001b[0mclose\u001b[0m\u001b[0;34m(\u001b[0m\u001b[0mself\u001b[0m\u001b[0;34m)\u001b[0m \u001b[0;34m->\u001b[0m \u001b[0;32mNone\u001b[0m\u001b[0;34m:\u001b[0m\u001b[0;34m\u001b[0m\u001b[0;34m\u001b[0m\u001b[0m\n",
            "\u001b[0;32m/usr/local/lib/python3.10/dist-packages/pandas/io/parsers/readers.py\u001b[0m in \u001b[0;36m_make_engine\u001b[0;34m(self, f, engine)\u001b[0m\n\u001b[1;32m   1878\u001b[0m                 \u001b[0;32mif\u001b[0m \u001b[0;34m\"b\"\u001b[0m \u001b[0;32mnot\u001b[0m \u001b[0;32min\u001b[0m \u001b[0mmode\u001b[0m\u001b[0;34m:\u001b[0m\u001b[0;34m\u001b[0m\u001b[0;34m\u001b[0m\u001b[0m\n\u001b[1;32m   1879\u001b[0m                     \u001b[0mmode\u001b[0m \u001b[0;34m+=\u001b[0m \u001b[0;34m\"b\"\u001b[0m\u001b[0;34m\u001b[0m\u001b[0;34m\u001b[0m\u001b[0m\n\u001b[0;32m-> 1880\u001b[0;31m             self.handles = get_handle(\n\u001b[0m\u001b[1;32m   1881\u001b[0m                 \u001b[0mf\u001b[0m\u001b[0;34m,\u001b[0m\u001b[0;34m\u001b[0m\u001b[0;34m\u001b[0m\u001b[0m\n\u001b[1;32m   1882\u001b[0m                 \u001b[0mmode\u001b[0m\u001b[0;34m,\u001b[0m\u001b[0;34m\u001b[0m\u001b[0;34m\u001b[0m\u001b[0m\n",
            "\u001b[0;32m/usr/local/lib/python3.10/dist-packages/pandas/io/common.py\u001b[0m in \u001b[0;36mget_handle\u001b[0;34m(path_or_buf, mode, encoding, compression, memory_map, is_text, errors, storage_options)\u001b[0m\n\u001b[1;32m    871\u001b[0m         \u001b[0;32mif\u001b[0m \u001b[0mioargs\u001b[0m\u001b[0;34m.\u001b[0m\u001b[0mencoding\u001b[0m \u001b[0;32mand\u001b[0m \u001b[0;34m\"b\"\u001b[0m \u001b[0;32mnot\u001b[0m \u001b[0;32min\u001b[0m \u001b[0mioargs\u001b[0m\u001b[0;34m.\u001b[0m\u001b[0mmode\u001b[0m\u001b[0;34m:\u001b[0m\u001b[0;34m\u001b[0m\u001b[0;34m\u001b[0m\u001b[0m\n\u001b[1;32m    872\u001b[0m             \u001b[0;31m# Encoding\u001b[0m\u001b[0;34m\u001b[0m\u001b[0;34m\u001b[0m\u001b[0m\n\u001b[0;32m--> 873\u001b[0;31m             handle = open(\n\u001b[0m\u001b[1;32m    874\u001b[0m                 \u001b[0mhandle\u001b[0m\u001b[0;34m,\u001b[0m\u001b[0;34m\u001b[0m\u001b[0;34m\u001b[0m\u001b[0m\n\u001b[1;32m    875\u001b[0m                 \u001b[0mioargs\u001b[0m\u001b[0;34m.\u001b[0m\u001b[0mmode\u001b[0m\u001b[0;34m,\u001b[0m\u001b[0;34m\u001b[0m\u001b[0;34m\u001b[0m\u001b[0m\n",
            "\u001b[0;31mFileNotFoundError\u001b[0m: [Errno 2] No such file or directory: 'C:/Users/karina/PycharmProjects/pythonProject/3 курс ІАД/prostate'"
          ]
        }
      ],
      "source": [
        "import numpy as np\n",
        "import pandas as pd\n",
        "import matplotlib.pyplot as plt\n",
        "from sklearn.cluster import KMeans\n",
        "from sklearn.metrics import silhouette_score\n",
        "from sklearn.preprocessing import StandardScaler\n",
        "\n",
        "\n",
        "def analiz_clasteriv(data, cluster_range = (3, 4, 5)):\n",
        "    # Виділення числових колонок для кластеризації\n",
        "    x = data_in_range.select_dtypes(include=[np.number])\n",
        "    #x = cut_dmd_data.select_dtypes(include=[np.number])\n",
        "    silhouette_scores = []\n",
        "\n",
        "    # Перебираємо різні кількості кластерів\n",
        "    for n_clusters in cluster_range:\n",
        "        plt.figure(figsize=(8,6))\n",
        "        # Випадковий вибір початкових центрів кластерів\n",
        "        kmeans = KMeans(n_clusters = n_clusters, random_state=42)\n",
        "        cluster_labels = kmeans.fit_predict(x)\n",
        "        # Розраховуємо кеф. силуету\n",
        "        silhouette_avg = silhouette_score(x, cluster_labels)\n",
        "        silhouette_scores.append(silhouette_avg)\n",
        "\n",
        "        print(f'Кількість центроїдів: {len(kmeans.cluster_centers_)}')\n",
        "        # Візуалізація результатів кластеризації\n",
        "        plt.scatter(x.iloc[:, 0], x.iloc[:, 1], c=cluster_labels, cmap='viridis')\n",
        "        plt.scatter(kmeans.cluster_centers_[:, 0], kmeans.cluster_centers_[:, 1], s=150, c='red', label='Центроїди')\n",
        "        plt.title(f'Кластерний аналіз методом K-Means (k={n_clusters})')\n",
        "        plt.legend()\n",
        "        plt.show()\n",
        "        plt.close()\n",
        "        print(f\"Кількість кластерів: {n_clusters}, Коефіцієнт силуету: {silhouette_avg:.2f}\")\n",
        "\n",
        "    return silhouette_scores\n",
        "\n",
        "dmd_data = pd.read_csv('C:/Users/karina/PycharmProjects/pythonProject/3 курс ІАД/prostate')\n",
        "cut_dmd_data = dmd_data[['age', 'ck', 'h']]\n",
        "data_in_range = cut_dmd_data.iloc[165:195].reset_index(drop = True)\n",
        "#print(data_in_range)\n",
        "#print(cut_dmd_data)\n",
        "#scores = analiz_clasteriv(cut_dmd_data)\n",
        "scores = analiz_clasteriv(data_in_range)\n",
        "\n",
        "# Діапазон кількості кластерів для аналізу\n",
        "cluster_range = range(3, 8)\n",
        "intra_cluster_distances = []\n",
        "inter_cluster_distances = []\n",
        "\n",
        "for n_clusters in cluster_range:\n",
        "    x = data_in_range.select_dtypes(include=[np.number])\n",
        "    # Ініціалізація та навчання моделі\n",
        "    kmeans = KMeans(n_clusters=n_clusters, random_state=42)\n",
        "    cluster_labels = kmeans.fit_predict(x)\n",
        "    cluster_centers = kmeans.cluster_centers_\n",
        "\n",
        "    # Внутрішньокластерна відстань\n",
        "    intra_distances = []\n",
        "    for i in range(n_clusters):\n",
        "        points_in_cluster = x[cluster_labels == i]\n",
        "        centroid = cluster_centers[i]\n",
        "        distances = np.sqrt(((points_in_cluster - centroid) ** 2).sum(axis=1))\n",
        "        intra_distances.append(np.mean(distances))\n",
        "    intra_cluster_distances.append(np.mean(intra_distances))\n",
        "\n",
        "    # Міжкластерна відстань\n",
        "    inter_distances = []\n",
        "    for i in range(n_clusters):\n",
        "        for j in range(i + 1, n_clusters):\n",
        "            distance = np.linalg.norm(cluster_centers[i] - cluster_centers[j])\n",
        "            inter_distances.append(distance)\n",
        "    inter_cluster_distances.append(np.mean(inter_distances))\n",
        "\n",
        "# Візуалізація внутрішньокластерної та міжкластерної відстаней\n",
        "plt.figure(figsize=(12, 6))\n",
        "plt.plot(cluster_range, intra_cluster_distances, marker='o', label='Внутрішньокластерна відстань')\n",
        "plt.plot(cluster_range, inter_cluster_distances, marker='s', label='Міжкластерна відстань')\n",
        "plt.title('Внутрішньокластерні та міжкластерні відстані для різних кількостей кластерів')\n",
        "plt.xlabel('Кількість кластерів')\n",
        "plt.ylabel('Відстань')\n",
        "plt.legend()\n",
        "plt.show()\n"
      ]
    }
  ]
}