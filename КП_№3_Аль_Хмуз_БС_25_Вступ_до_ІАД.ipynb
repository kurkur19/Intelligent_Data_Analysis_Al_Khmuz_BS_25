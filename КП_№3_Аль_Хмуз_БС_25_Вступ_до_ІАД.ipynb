{
  "nbformat": 4,
  "nbformat_minor": 0,
  "metadata": {
    "colab": {
      "provenance": [],
      "toc_visible": true,
      "authorship_tag": "ABX9TyM7uSEUQc5G7Q+6aAjrxffa",
      "include_colab_link": true
    },
    "kernelspec": {
      "name": "python3",
      "display_name": "Python 3"
    },
    "language_info": {
      "name": "python"
    }
  },
  "cells": [
    {
      "cell_type": "markdown",
      "metadata": {
        "id": "view-in-github",
        "colab_type": "text"
      },
      "source": [
        "<a href=\"https://colab.research.google.com/github/kurkur19/Intelligent_Data_Analysis_Al_Khmuz_BS_25/blob/main/%D0%9A%D0%9F_%E2%84%963_%D0%90%D0%BB%D1%8C_%D0%A5%D0%BC%D1%83%D0%B7_%D0%91%D0%A1_25_%D0%92%D1%81%D1%82%D1%83%D0%BF_%D0%B4%D0%BE_%D0%86%D0%90%D0%94.ipynb\" target=\"_parent\"><img src=\"https://colab.research.google.com/assets/colab-badge.svg\" alt=\"Open In Colab\"/></a>"
      ]
    },
    {
      "cell_type": "markdown",
      "source": [
        "# Лабораторна робота 3: Кластерний аналіз методом КРАБ\n",
        "### Дисципліна: Вступ до Інтелектуального Аналізу Даних\n",
        "\n"
      ],
      "metadata": {
        "id": "1mf66DDiJG-v"
      }
    },
    {
      "cell_type": "markdown",
      "source": [
        "Аль Хмуз Карина Бассамівна БС-25"
      ],
      "metadata": {
        "id": "6GDvQK-4aiic"
      }
    },
    {
      "cell_type": "markdown",
      "source": [
        "##Завдання:\n",
        "\n",
        "1.\tРеалізувати алгоритм та застосувати його до даних з КП2. Розділення кластерів проводити по найдовшому ребру.\n",
        "2.\tВивести таблицю з кроками об'єднання (див. приклад).\n",
        "3.\tОцінити якість кластеризації за критерієм F. Вивести значення всіх чотирьох характеристик.\n",
        "4.\tЗробити висновок.\n"
      ],
      "metadata": {
        "id": "44MPf3V4alrd"
      }
    },
    {
      "cell_type": "markdown",
      "source": [
        "##Вхідні дані:\n",
        "Я, Аль Хмуз Карина Бассамівна, маю перший варіант в своїй групі БС-25, тому:\n",
        "\n",
        "1.\tВибір даних для кластеризації– 30 значень\n",
        "2.\t Початок даних: 36\n",
        "3.\tКінець даних: 65"
      ],
      "metadata": {
        "id": "TBscaqn_avF8"
      }
    },
    {
      "cell_type": "markdown",
      "source": [
        "##Вимоги:\n",
        "1.\tТеоретичні дані\n",
        "2.\tЕтапи виконання\n",
        "3.\tРезультат роботи програми\n",
        "4.\tВисновки про оптимальну кількість кластерів\n"
      ],
      "metadata": {
        "id": "agHxzs55bFqg"
      }
    },
    {
      "cell_type": "markdown",
      "source": [
        "##Теоретичний матеріал:\n"
      ],
      "metadata": {
        "id": "BUeXO8cXbOQe"
      }
    },
    {
      "cell_type": "markdown",
      "source": [
        "Сімейство алгоритмів КРАБ (кластеризація на основі розподілу) працює, створюючи незамкнутий зв'язний граф, що дає змогу ділити множину об'єктів на групи. Це робить алгоритми дуже гнучкими для класифікації даних різної форми та розміру і підходить для різних типів даних.\n",
        "\n",
        "Основна ціль кластеризації — згрупувати об'єкти так, щоб об'єкти всередині одного класу були максимально схожими, а об'єкти з різних класів — максимально відрізнялися. Для досягнення цього використовуються такі ключові поняття:\n",
        "- **Міра близькості (ρ)**: показує, наскільки близько розташовані об'єкти в межах одного класу. Чим менша відстань між точками одного класу, тим більше шансів, що вони правильно згруповані.\n",
        "- **Міра віддаленості (d)**: визначає, наскільки далеко класи розташовані один від одного. Велика віддаленість свідчить про гарне розділення між класами.\n",
        "- **Рівномірність розподілу (h)**: відображає бажання мати приблизно рівномірний розподіл об'єктів між класами, що допомагає підтримувати баланс і покращує подальший аналіз.\n",
        "- **Зміна щільності (λ)**: показує, як щільно розташовані об'єкти в різних частинах простору, що дозволяє врахувати неоднорідність розподілу даних."
      ],
      "metadata": {
        "id": "5vtJLchmoavJ"
      }
    },
    {
      "cell_type": "markdown",
      "source": [
        "![image.png](data:image/png;base64,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)"
      ],
      "metadata": {
        "id": "u92jRqPko1fJ"
      }
    },
    {
      "cell_type": "markdown",
      "source": [
        "##Практична частина:"
      ],
      "metadata": {
        "id": "0kWwLrwabSot"
      }
    },
    {
      "cell_type": "markdown",
      "source": [
        "###Імпорт бібліотек"
      ],
      "metadata": {
        "id": "_BrOKJOUfQRS"
      }
    },
    {
      "cell_type": "code",
      "source": [
        "import pandas as pd\n",
        "import numpy as np\n",
        "import matplotlib.pyplot as plt\n",
        "from scipy.spatial import distance_matrix\n",
        "from google.colab import files\n",
        "from scipy.spatial.distance import cdist\n",
        "from sklearn.preprocessing import StandardScaler, LabelEncoder\n",
        "from scipy.spatial.distance import cdist  # Використовуємо для обчислення відстаней\n"
      ],
      "metadata": {
        "id": "WGD7g_3ufUje"
      },
      "execution_count": 38,
      "outputs": []
    },
    {
      "cell_type": "markdown",
      "source": [
        "###Крок №1: Підготовка даних\n"
      ],
      "metadata": {
        "id": "6N6yui9imZwk"
      }
    },
    {
      "cell_type": "markdown",
      "source": [
        "Завантаження файлу Excel"
      ],
      "metadata": {
        "id": "yPicazB_fWkS"
      }
    },
    {
      "cell_type": "code",
      "source": [
        "uploaded = files.upload()\n",
        "file_path = 'prostate.xlsx'\n",
        "data = pd.read_excel(file_path, engine='openpyxl')"
      ],
      "metadata": {
        "colab": {
          "base_uri": "https://localhost:8080/",
          "height": 90
        },
        "id": "FlaUanA_fWKs",
        "outputId": "5e50ceb7-4f08-47cd-c888-549fb0a08ca5"
      },
      "execution_count": 8,
      "outputs": [
        {
          "output_type": "display_data",
          "data": {
            "text/plain": [
              "<IPython.core.display.HTML object>"
            ],
            "text/html": [
              "\n",
              "     <input type=\"file\" id=\"files-8adf638d-2453-4bbe-a512-ee25e840bf6c\" name=\"files[]\" multiple disabled\n",
              "        style=\"border:none\" />\n",
              "     <output id=\"result-8adf638d-2453-4bbe-a512-ee25e840bf6c\">\n",
              "      Upload widget is only available when the cell has been executed in the\n",
              "      current browser session. Please rerun this cell to enable.\n",
              "      </output>\n",
              "      <script>// Copyright 2017 Google LLC\n",
              "//\n",
              "// Licensed under the Apache License, Version 2.0 (the \"License\");\n",
              "// you may not use this file except in compliance with the License.\n",
              "// You may obtain a copy of the License at\n",
              "//\n",
              "//      http://www.apache.org/licenses/LICENSE-2.0\n",
              "//\n",
              "// Unless required by applicable law or agreed to in writing, software\n",
              "// distributed under the License is distributed on an \"AS IS\" BASIS,\n",
              "// WITHOUT WARRANTIES OR CONDITIONS OF ANY KIND, either express or implied.\n",
              "// See the License for the specific language governing permissions and\n",
              "// limitations under the License.\n",
              "\n",
              "/**\n",
              " * @fileoverview Helpers for google.colab Python module.\n",
              " */\n",
              "(function(scope) {\n",
              "function span(text, styleAttributes = {}) {\n",
              "  const element = document.createElement('span');\n",
              "  element.textContent = text;\n",
              "  for (const key of Object.keys(styleAttributes)) {\n",
              "    element.style[key] = styleAttributes[key];\n",
              "  }\n",
              "  return element;\n",
              "}\n",
              "\n",
              "// Max number of bytes which will be uploaded at a time.\n",
              "const MAX_PAYLOAD_SIZE = 100 * 1024;\n",
              "\n",
              "function _uploadFiles(inputId, outputId) {\n",
              "  const steps = uploadFilesStep(inputId, outputId);\n",
              "  const outputElement = document.getElementById(outputId);\n",
              "  // Cache steps on the outputElement to make it available for the next call\n",
              "  // to uploadFilesContinue from Python.\n",
              "  outputElement.steps = steps;\n",
              "\n",
              "  return _uploadFilesContinue(outputId);\n",
              "}\n",
              "\n",
              "// This is roughly an async generator (not supported in the browser yet),\n",
              "// where there are multiple asynchronous steps and the Python side is going\n",
              "// to poll for completion of each step.\n",
              "// This uses a Promise to block the python side on completion of each step,\n",
              "// then passes the result of the previous step as the input to the next step.\n",
              "function _uploadFilesContinue(outputId) {\n",
              "  const outputElement = document.getElementById(outputId);\n",
              "  const steps = outputElement.steps;\n",
              "\n",
              "  const next = steps.next(outputElement.lastPromiseValue);\n",
              "  return Promise.resolve(next.value.promise).then((value) => {\n",
              "    // Cache the last promise value to make it available to the next\n",
              "    // step of the generator.\n",
              "    outputElement.lastPromiseValue = value;\n",
              "    return next.value.response;\n",
              "  });\n",
              "}\n",
              "\n",
              "/**\n",
              " * Generator function which is called between each async step of the upload\n",
              " * process.\n",
              " * @param {string} inputId Element ID of the input file picker element.\n",
              " * @param {string} outputId Element ID of the output display.\n",
              " * @return {!Iterable<!Object>} Iterable of next steps.\n",
              " */\n",
              "function* uploadFilesStep(inputId, outputId) {\n",
              "  const inputElement = document.getElementById(inputId);\n",
              "  inputElement.disabled = false;\n",
              "\n",
              "  const outputElement = document.getElementById(outputId);\n",
              "  outputElement.innerHTML = '';\n",
              "\n",
              "  const pickedPromise = new Promise((resolve) => {\n",
              "    inputElement.addEventListener('change', (e) => {\n",
              "      resolve(e.target.files);\n",
              "    });\n",
              "  });\n",
              "\n",
              "  const cancel = document.createElement('button');\n",
              "  inputElement.parentElement.appendChild(cancel);\n",
              "  cancel.textContent = 'Cancel upload';\n",
              "  const cancelPromise = new Promise((resolve) => {\n",
              "    cancel.onclick = () => {\n",
              "      resolve(null);\n",
              "    };\n",
              "  });\n",
              "\n",
              "  // Wait for the user to pick the files.\n",
              "  const files = yield {\n",
              "    promise: Promise.race([pickedPromise, cancelPromise]),\n",
              "    response: {\n",
              "      action: 'starting',\n",
              "    }\n",
              "  };\n",
              "\n",
              "  cancel.remove();\n",
              "\n",
              "  // Disable the input element since further picks are not allowed.\n",
              "  inputElement.disabled = true;\n",
              "\n",
              "  if (!files) {\n",
              "    return {\n",
              "      response: {\n",
              "        action: 'complete',\n",
              "      }\n",
              "    };\n",
              "  }\n",
              "\n",
              "  for (const file of files) {\n",
              "    const li = document.createElement('li');\n",
              "    li.append(span(file.name, {fontWeight: 'bold'}));\n",
              "    li.append(span(\n",
              "        `(${file.type || 'n/a'}) - ${file.size} bytes, ` +\n",
              "        `last modified: ${\n",
              "            file.lastModifiedDate ? file.lastModifiedDate.toLocaleDateString() :\n",
              "                                    'n/a'} - `));\n",
              "    const percent = span('0% done');\n",
              "    li.appendChild(percent);\n",
              "\n",
              "    outputElement.appendChild(li);\n",
              "\n",
              "    const fileDataPromise = new Promise((resolve) => {\n",
              "      const reader = new FileReader();\n",
              "      reader.onload = (e) => {\n",
              "        resolve(e.target.result);\n",
              "      };\n",
              "      reader.readAsArrayBuffer(file);\n",
              "    });\n",
              "    // Wait for the data to be ready.\n",
              "    let fileData = yield {\n",
              "      promise: fileDataPromise,\n",
              "      response: {\n",
              "        action: 'continue',\n",
              "      }\n",
              "    };\n",
              "\n",
              "    // Use a chunked sending to avoid message size limits. See b/62115660.\n",
              "    let position = 0;\n",
              "    do {\n",
              "      const length = Math.min(fileData.byteLength - position, MAX_PAYLOAD_SIZE);\n",
              "      const chunk = new Uint8Array(fileData, position, length);\n",
              "      position += length;\n",
              "\n",
              "      const base64 = btoa(String.fromCharCode.apply(null, chunk));\n",
              "      yield {\n",
              "        response: {\n",
              "          action: 'append',\n",
              "          file: file.name,\n",
              "          data: base64,\n",
              "        },\n",
              "      };\n",
              "\n",
              "      let percentDone = fileData.byteLength === 0 ?\n",
              "          100 :\n",
              "          Math.round((position / fileData.byteLength) * 100);\n",
              "      percent.textContent = `${percentDone}% done`;\n",
              "\n",
              "    } while (position < fileData.byteLength);\n",
              "  }\n",
              "\n",
              "  // All done.\n",
              "  yield {\n",
              "    response: {\n",
              "      action: 'complete',\n",
              "    }\n",
              "  };\n",
              "}\n",
              "\n",
              "scope.google = scope.google || {};\n",
              "scope.google.colab = scope.google.colab || {};\n",
              "scope.google.colab._files = {\n",
              "  _uploadFiles,\n",
              "  _uploadFilesContinue,\n",
              "};\n",
              "})(self);\n",
              "</script> "
            ]
          },
          "metadata": {}
        },
        {
          "output_type": "stream",
          "name": "stdout",
          "text": [
            "Saving prostate.xlsx to prostate (2).xlsx\n"
          ]
        }
      ]
    },
    {
      "cell_type": "markdown",
      "source": [
        "Вибір змінних та діапазону рядків"
      ],
      "metadata": {
        "id": "8wMxJGXOlg8L"
      }
    },
    {
      "cell_type": "code",
      "source": [
        "data_in_range = data[['rx', 'sbp', 'sg']].iloc[36:66].reset_index(drop=True)"
      ],
      "metadata": {
        "id": "MpJdp0Smlluh"
      },
      "execution_count": 62,
      "outputs": []
    },
    {
      "cell_type": "markdown",
      "source": [
        "\n",
        "Закодування текстових значень у стовпці 'rx' за допомогою Label Encoding"
      ],
      "metadata": {
        "id": "WqLKF6vNlobD"
      }
    },
    {
      "cell_type": "code",
      "source": [
        "label_encoder = LabelEncoder()\n",
        "data_in_range['rx'] = label_encoder.fit_transform(data_in_range['rx'])"
      ],
      "metadata": {
        "id": "0rw6JiKtlqC0"
      },
      "execution_count": 63,
      "outputs": []
    },
    {
      "cell_type": "markdown",
      "source": [
        "Заповнення NaN значень середнім значенням у кожному стовпці"
      ],
      "metadata": {
        "id": "Tacy4Ln7luUV"
      }
    },
    {
      "cell_type": "code",
      "source": [
        "data_in_range.fillna(data_in_range.mean(), inplace=True)\n",
        "print(f\"Початкові дані:\\n{data_in_range}\")"
      ],
      "metadata": {
        "colab": {
          "base_uri": "https://localhost:8080/"
        },
        "id": "j46SviG6lwcO",
        "outputId": "4d84e130-f12e-4685-a06e-f8edc6886f22"
      },
      "execution_count": 64,
      "outputs": [
        {
          "output_type": "stream",
          "name": "stdout",
          "text": [
            "Початкові дані:\n",
            "    rx  sbp         sg\n",
            "0    3   16  11.000000\n",
            "1    0   12  13.000000\n",
            "2    0   12  13.000000\n",
            "3    1   14  11.000000\n",
            "4    3   17  12.000000\n",
            "5    1   15  13.000000\n",
            "6    2   14  13.000000\n",
            "7    3   16  15.000000\n",
            "8    1   13  13.000000\n",
            "9    2   17  11.000000\n",
            "10   0   12  13.000000\n",
            "11   2   12   9.000000\n",
            "12   2   13   8.000000\n",
            "13   3   11  11.000000\n",
            "14   3   16  11.000000\n",
            "15   2   17   8.000000\n",
            "16   0   12   8.000000\n",
            "17   1   16   9.000000\n",
            "18   3   18   9.000000\n",
            "19   0   15  11.000000\n",
            "20   1   13  11.344828\n",
            "21   0   13  11.000000\n",
            "22   0   16   9.000000\n",
            "23   3   12   9.000000\n",
            "24   1   14  13.000000\n",
            "25   3   21  13.000000\n",
            "26   0   14  15.000000\n",
            "27   3   12  11.000000\n",
            "28   0   14  11.000000\n",
            "29   2   13  15.000000\n"
          ]
        }
      ]
    },
    {
      "cell_type": "markdown",
      "source": [
        "###Крок №2: Нормалізація даних"
      ],
      "metadata": {
        "id": "TatX1BWOlziw"
      }
    },
    {
      "cell_type": "code",
      "source": [
        "scaler = StandardScaler()\n",
        "normalized_data = scaler.fit_transform(data_in_range)\n",
        "dist_matrix = cdist(normalized_data, normalized_data)  # Обчислення матриці відстаней\n",
        "print(f\"\\nНормалізовані дані:\\n{normalized_data}\")"
      ],
      "metadata": {
        "colab": {
          "base_uri": "https://localhost:8080/"
        },
        "id": "2rvIqnWjl3HA",
        "outputId": "208d9120-0906-405d-a186-a0d47fa5fcf5"
      },
      "execution_count": 65,
      "outputs": [
        {
          "output_type": "stream",
          "name": "stdout",
          "text": [
            "\n",
            "Нормалізовані дані:\n",
            "[[ 1.24568220e+00  7.38817656e-01 -1.69234054e-01]\n",
            " [-1.24568220e+00 -1.03434472e+00  8.12323458e-01]\n",
            " [-1.24568220e+00 -1.03434472e+00  8.12323458e-01]\n",
            " [-4.15227399e-01 -1.47763531e-01 -1.69234054e-01]\n",
            " [ 1.24568220e+00  1.18210825e+00  3.21544702e-01]\n",
            " [-4.15227399e-01  2.95527062e-01  8.12323458e-01]\n",
            " [ 4.15227399e-01 -1.47763531e-01  8.12323458e-01]\n",
            " [ 1.24568220e+00  7.38817656e-01  1.79388097e+00]\n",
            " [-4.15227399e-01 -5.91054125e-01  8.12323458e-01]\n",
            " [ 4.15227399e-01  1.18210825e+00 -1.69234054e-01]\n",
            " [-1.24568220e+00 -1.03434472e+00  8.12323458e-01]\n",
            " [ 4.15227399e-01 -1.03434472e+00 -1.15079157e+00]\n",
            " [ 4.15227399e-01 -5.91054125e-01 -1.64157032e+00]\n",
            " [ 1.24568220e+00 -1.47763531e+00 -1.69234054e-01]\n",
            " [ 1.24568220e+00  7.38817656e-01 -1.69234054e-01]\n",
            " [ 4.15227399e-01  1.18210825e+00 -1.64157032e+00]\n",
            " [-1.24568220e+00 -1.03434472e+00 -1.64157032e+00]\n",
            " [-4.15227399e-01  7.38817656e-01 -1.15079157e+00]\n",
            " [ 1.24568220e+00  1.62539884e+00 -1.15079157e+00]\n",
            " [-1.24568220e+00  2.95527062e-01 -1.69234054e-01]\n",
            " [-4.15227399e-01 -5.91054125e-01  8.71798200e-16]\n",
            " [-1.24568220e+00 -5.91054125e-01 -1.69234054e-01]\n",
            " [-1.24568220e+00  7.38817656e-01 -1.15079157e+00]\n",
            " [ 1.24568220e+00 -1.03434472e+00 -1.15079157e+00]\n",
            " [-4.15227399e-01 -1.47763531e-01  8.12323458e-01]\n",
            " [ 1.24568220e+00  2.95527062e+00  8.12323458e-01]\n",
            " [-1.24568220e+00 -1.47763531e-01  1.79388097e+00]\n",
            " [ 1.24568220e+00 -1.03434472e+00 -1.69234054e-01]\n",
            " [-1.24568220e+00 -1.47763531e-01 -1.69234054e-01]\n",
            " [ 4.15227399e-01 -5.91054125e-01  1.79388097e+00]]\n"
          ]
        }
      ]
    },
    {
      "cell_type": "markdown",
      "source": [
        "###Крок №3: Побудова послідовності об'єктів та відстаней між ними"
      ],
      "metadata": {
        "id": "lZrgNKLHl6hh"
      }
    },
    {
      "cell_type": "code",
      "source": [
        "def build_distance_sequence(dist_matrix):\n",
        "    visited = set()\n",
        "    sequence = []\n",
        "    current_object = 0\n",
        "    visited.add(current_object)\n",
        "\n",
        "    while len(visited) < len(dist_matrix):\n",
        "        distances = [(dist_matrix[current_object, i], i) for i in range(len(dist_matrix)) if i not in visited]\n",
        "        min_distance, next_object = min(distances, key=lambda x: x[0])\n",
        "        sequence.append((current_object, next_object, min_distance))  # Без +1 для зручності доступу\n",
        "        visited.add(next_object)\n",
        "        current_object = next_object\n",
        "\n",
        "    return sequence\n",
        "\n",
        "sequence = build_distance_sequence(dist_matrix)\n",
        "print(\"\\n\\n{:<10} {:<10} {:<20}\".format('Об\\'єкт 1', 'Об\\'єкт 2', 'Відстань'))\n",
        "\n",
        "for obj1, obj2, dist in sequence:\n",
        "    print(f\"{obj1:<10} {obj2:<10} {dist:.10f}\")"
      ],
      "metadata": {
        "colab": {
          "base_uri": "https://localhost:8080/"
        },
        "id": "Ot1dawl5l-EI",
        "outputId": "fd8d3b5d-0a87-4380-d156-8c3669bec520"
      },
      "execution_count": 66,
      "outputs": [
        {
          "output_type": "stream",
          "name": "stdout",
          "text": [
            "\n",
            "\n",
            "Об'єкт 1   Об'єкт 2   Відстань            \n",
            "0          14         0.0000000000\n",
            "14         4          0.6613398049\n",
            "4          9          0.9646341067\n",
            "9          17         1.3600062030\n",
            "17         22         0.8304547985\n",
            "22         19         1.0770151808\n",
            "19         28         0.4432905934\n",
            "28         21         0.4432905934\n",
            "21         20         0.8475230601\n",
            "20         3          0.4744962752\n",
            "3          24         0.9815575121\n",
            "24         5          0.4432905934\n",
            "5          8          0.8865811868\n",
            "8          1          0.9413616322\n",
            "1          2          0.0000000000\n",
            "2          10         0.0000000000\n",
            "10         26         1.3226796099\n",
            "26         29         1.7190483530\n",
            "29         6          1.0770151808\n",
            "6          7          1.5617735184\n",
            "7          25         2.4240707302\n",
            "25         18         2.3711557414\n",
            "18         15         1.0616145770\n",
            "15         12         1.7731623737\n",
            "12         11         0.6613398049\n",
            "11         23         0.8304547985\n",
            "23         27         0.9815575121\n",
            "27         13         0.4432905934\n",
            "13         16         2.9276572867\n"
          ]
        }
      ]
    },
    {
      "cell_type": "markdown",
      "source": [
        "Можемо побачити таку ситуацію, коли відстань між двома об'єктами дорівнює нулю (тобто 0 - 14 з відстанню 0.0000000000), вона може виникнути через таку причину, як:\n",
        "\n",
        "Обидва об'єкти є однаковими: Якщо два об'єкти мають ідентичні значення за всіма ознаками після нормалізації, відстань між ними буде дорівнювати нулю.\n",
        "Або ми допустили помилку при обрахунках..."
      ],
      "metadata": {
        "id": "uwac_gRBm21f"
      }
    },
    {
      "cell_type": "markdown",
      "source": [
        "###Крок №4: Розбиття по найдовшому ребру"
      ],
      "metadata": {
        "id": "X3UMvxX0mHhZ"
      }
    },
    {
      "cell_type": "code",
      "source": [
        "longest_edge = max(sequence, key=lambda x: x[2])\n",
        "print(f\"\\nНайдовше ребро: {longest_edge[0]+1} - {longest_edge[1]+1} з відстанню {longest_edge[2]:.10f}\")\n",
        "sequence.remove(longest_edge)\n",
        "\n",
        "# Формування двох кластерів\n",
        "cluster_1, cluster_2 = set(), set()\n",
        "cluster_1.add(longest_edge[0])\n",
        "cluster_2.add(longest_edge[1])\n",
        "\n",
        "# Додавання об'єктів до кластерів на основі видаленого ребра\n",
        "for obj1, obj2, dist in sequence:\n",
        "    if obj1 in cluster_1:\n",
        "        cluster_1.add(obj2)\n",
        "    elif obj1 in cluster_2:\n",
        "        cluster_2.add(obj2)\n",
        "    elif obj2 in cluster_1:\n",
        "        cluster_1.add(obj1)\n",
        "    else:\n",
        "        cluster_2.add(obj1)\n",
        "\n",
        "print(f\"\\nКластер 1: {sorted(cluster_1)}\")\n",
        "print(f\"Кластер 2: {sorted(cluster_2)}\")"
      ],
      "metadata": {
        "colab": {
          "base_uri": "https://localhost:8080/"
        },
        "id": "IPumxmy3mHMw",
        "outputId": "e193c527-da1d-42f5-ded5-f0b1663261b8"
      },
      "execution_count": 67,
      "outputs": [
        {
          "output_type": "stream",
          "name": "stdout",
          "text": [
            "\n",
            "Найдовше ребро: 14 - 17 з відстанню 2.9276572867\n",
            "\n",
            "Кластер 1: [13, 27]\n",
            "Кластер 2: [0, 1, 2, 3, 4, 5, 6, 7, 8, 9, 10, 11, 12, 14, 15, 16, 17, 18, 19, 20, 21, 22, 23, 24, 25, 26, 28, 29]\n"
          ]
        }
      ]
    },
    {
      "cell_type": "markdown",
      "source": [
        "\n",
        "Результат кластеризації показав:\n",
        "\n",
        "Найдовше ребро (відстань 2.93) між об'єктами 14(13) та 17(16) стало ключовим у розділенні даних на два кластери.\n",
        "\n",
        "Кластер 1: Містить два об'єкти [13, 27], які віддалені від основної групи, можливо, є аномаліями.\n",
        "\n",
        "Кластер 2: Основна частина даних (28 об'єктів), що показує вищу згуртованість та схожість."
      ],
      "metadata": {
        "id": "07DLKsTlne7M"
      }
    },
    {
      "cell_type": "markdown",
      "source": [
        "###Крок №5: Обчислення критерію F"
      ],
      "metadata": {
        "id": "KUiLU_IwmR2_"
      }
    },
    {
      "cell_type": "code",
      "source": [
        "def calculate_metrics(sequence, cluster_1, cluster_2):\n",
        "    # Обчислення середніх відстаней для кластерів\n",
        "    rho_1 = sum(dist for obj1, obj2, dist in sequence if obj1 in cluster_1 and obj2 in cluster_1) / len(cluster_1)\n",
        "    rho_2 = sum(dist for obj1, obj2, dist in sequence if obj1 in cluster_2 and obj2 in cluster_2) / len(cluster_2)\n",
        "    rho_total = rho_1 + rho_2\n",
        "\n",
        "    # Обчислення міжкластерної відстані\n",
        "    d_intercluster = sum(dist for obj1, obj2, dist in sequence if\n",
        "                         (obj1 in cluster_1 and obj2 in cluster_2) or (obj1 in cluster_2 and obj2 in cluster_1)) / len(sequence)\n",
        "\n",
        "    h = abs(len(cluster_1) - len(cluster_2)) / (len(cluster_1) + len(cluster_2))\n",
        "\n",
        "    # Обчислення локальної неоднорідності\n",
        "    lambda_values = []\n",
        "    for obj1, obj2, dist in sequence:\n",
        "        if (obj1 in cluster_1 and obj2 in cluster_1) or (obj1 in cluster_2 and obj2 in cluster_2):\n",
        "            min_adjacent_edge = min(\n",
        "                (d for o1, o2, d in sequence if (o1 == obj1 or o2 == obj1 or o1 == obj2 or o2 == obj2) and d != dist),\n",
        "                default=dist)\n",
        "            lambda_values.append(min_adjacent_edge / dist if dist != 0 else 0)\n",
        "    lambda_total = np.mean(lambda_values) if lambda_values else 0\n",
        "\n",
        "    return rho_total, d_intercluster, h, lambda_total\n",
        "\n",
        "rho, d, h, lambda_val = calculate_metrics(sequence, cluster_1, cluster_2)\n",
        "F = np.log(((d * h) / (lambda_val * rho))) if lambda_val and rho else 0\n",
        "print(f\"\\nКритерій якості кластеризації (F): {F:.10f}\")\n",
        "print(f\"Міра близькості (rho): {rho:.10f}\")\n",
        "print(f\"Відстань між класами (d): {d:.10f}\")\n",
        "print(f\"Рівномірність розподілу (h): {h:.10f}\")\n",
        "print(f\"Міра локальної неоднорідності (lambda): {lambda_val:.10f}\")\n",
        "\n",
        "\n"
      ],
      "metadata": {
        "colab": {
          "base_uri": "https://localhost:8080/"
        },
        "id": "LzvJgzXojoht",
        "outputId": "39ece403-316a-43bc-d59e-fd7fec62173a"
      },
      "execution_count": 68,
      "outputs": [
        {
          "output_type": "stream",
          "name": "stdout",
          "text": [
            "\n",
            "Критерій якості кластеризації (F): -3.4371679831\n",
            "Міра близькості (rho): 1.1201151620\n",
            "Відстань між класами (d): 0.0350556254\n",
            "Рівномірність розподілу (h): 0.8666666667\n",
            "Міра локальної неоднорідності (lambda): 0.8435099805\n"
          ]
        }
      ]
    },
    {
      "cell_type": "markdown",
      "source": [
        "##Аналіз критеріїв якості кластеризації:\n",
        "\n",
        "***Критерій якості кластеризації (F):*** Негативне значення -3.44 вказує на низьку якість кластеризації. Це означає, що обрані кластери недостатньо добре відокремлені один від одного.\n",
        "\n",
        "***Міра близькості (rho):*** Значення 1.12 вказує на певний рівень близькості між об'єктами всередині кластерів. Проте для хорошого кластеру зазвичай очікується ще менше значення, що вказувало б на більш тісну згуртованість об'єктів.\n",
        "\n",
        "***Відстань між класами (d):*** Низьке значення 0.035 свідчить про те, що кластери дуже близько розташовані один до одного, що може ускладнювати їх чітке розмежування.\n",
        "\n",
        "***Рівномірність розподілу (h):*** Високе значення 0.87 показує значний дисбаланс між кластерами (один кластер набагато більший за інший). Це впливає на ефективність кластеризації.\n",
        "\n",
        "***Міра локальної неоднорідності (lambda):*** Значення 0.84 говорить про помірну неоднорідність всередині кластерів. Це свідчить, що в кластерах можуть бути внутрішні відмінності, що знижує їх цілісність."
      ],
      "metadata": {
        "id": "7JyEIGvAn4uH"
      }
    }
  ]
}